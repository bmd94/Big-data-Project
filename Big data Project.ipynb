{
  "nbformat": 4,
  "nbformat_minor": 0,
  "metadata": {
    "colab": {
      "name": "fadi___2.ipynb",
      "provenance": [],
      "collapsed_sections": [],
      "mount_file_id": "1BxzYwyzC0xVGnggbJOsJrpp9w4JCrY4X",
      "authorship_tag": "ABX9TyOQ6G7vRbTc+TykxCv5HEjd",
      "include_colab_link": true
    },
    "kernelspec": {
      "name": "python3",
      "display_name": "Python 3"
    }
  },
  "cells": [
    {
      "cell_type": "markdown",
      "metadata": {
        "id": "view-in-github",
        "colab_type": "text"
      },
      "source": [
        "<a href=\"https://colab.research.google.com/github/bmd94/Big-data-Project/blob/main/Big%20data%20Project.ipynb\" target=\"_parent\"><img src=\"https://colab.research.google.com/assets/colab-badge.svg\" alt=\"Open In Colab\"/></a>"
      ]
    },
    {
      "cell_type": "code",
      "metadata": {
        "id": "srEw4Rg2iqbA"
      },
      "source": [
        "# Run below commands in google colab\n",
        "# install Java8\n",
        "!apt-get install openjdk-8-jdk-headless -qq > /dev/null\n",
        "# download spark3.0.0\n",
        "!wget -q http://apache.osuosl.org/spark/spark-3.0.2/spark-3.0.2-bin-hadoop3.2.tgz \n",
        "# unzip it\n",
        "!tar xf spark-3.0.2-bin-hadoop3.2.tgz \n",
        "# install findspark \n",
        "!pip install -q findspark"
      ],
      "execution_count": null,
      "outputs": []
    },
    {
      "cell_type": "code",
      "metadata": {
        "id": "vf2bUo96i5nd"
      },
      "source": [
        "# 2. Setup Environment Variables\n",
        "import os\n",
        "os.environ[\"JAVA_HOME\"] = \"/usr/lib/jvm/java-8-openjdk-amd64\"\n",
        "os.environ[\"SPARK_HOME\"] = \"/content/spark-3.0.2-bin-hadoop3.2\""
      ],
      "execution_count": null,
      "outputs": []
    },
    {
      "cell_type": "code",
      "metadata": {
        "id": "DIuv-MiOi9ZT"
      },
      "source": [
        "import findspark\n",
        "findspark.init()\n",
        "from pyspark.sql import SparkSession\n",
        "spark = SparkSession.builder.master(\"local[*]\").getOrCreate()\n",
        "# Test the spark\n",
        "#df = spark.createDataFrame([{\"hello\": \"world\"} for x in range(1000)])\n",
        "#df.show(3, False)"
      ],
      "execution_count": null,
      "outputs": []
    },
    {
      "cell_type": "code",
      "metadata": {
        "colab": {
          "base_uri": "https://localhost:8080/"
        },
        "id": "ccdspJMmjHfy",
        "outputId": "efe1c243-f41b-4def-9c20-62363df0faf5"
      },
      "source": [
        "# Check the pyspark version\n",
        "import pyspark\n",
        "print(pyspark.__version__)"
      ],
      "execution_count": null,
      "outputs": [
        {
          "output_type": "stream",
          "text": [
            "3.0.2\n"
          ],
          "name": "stdout"
        }
      ]
    },
    {
      "cell_type": "code",
      "metadata": {
        "id": "2XN5R8eZmXfH"
      },
      "source": [
        "from pyspark import SparkConf, SparkContext\n",
        "from pyspark.sql import SparkSession, SQLContext\n",
        "\n",
        "from pyspark.sql.types import *     # for all types of data\n",
        "import pyspark.sql.functions as F   # import all functions\n",
        "from pyspark.sql.functions import udf, col      # Creates a user defined function (UDF),Returns a Column based on the given column name.\n",
        " \n",
        "sc = SparkContext.getOrCreate()"
      ],
      "execution_count": null,
      "outputs": []
    },
    {
      "cell_type": "code",
      "metadata": {
        "id": "67Z47zswmkvu"
      },
      "source": [
        "from pyspark.sql import SparkSession\n",
        "\n",
        "spark = SparkSession \\\n",
        ".builder\\\n",
        ".appName(\"Python Spark create U1-U2 edges\") \\\n",
        ".config(\"spark.some.config.option\", \"some-value\") \\\n",
        ".getOrCreate()"
      ],
      "execution_count": null,
      "outputs": []
    },
    {
      "cell_type": "code",
      "metadata": {
        "id": "aJSOrcoNO8O6"
      },
      "source": [
        "tr = sc.textFile(\"/content/drive/MyDrive/Kaggle/fadi/T_R\")\n",
        "tm = sc.textFile(\"/content/drive/MyDrive/Kaggle/fadi/T_M\")"
      ],
      "execution_count": null,
      "outputs": []
    },
    {
      "cell_type": "code",
      "metadata": {
        "colab": {
          "base_uri": "https://localhost:8080/",
          "height": 35
        },
        "id": "KufIp5R7O8Fe",
        "outputId": "475eb683-b251-47bb-a42e-e3cc20160062"
      },
      "source": [
        "tr.first()"
      ],
      "execution_count": null,
      "outputs": [
        {
          "output_type": "execute_result",
          "data": {
            "application/vnd.google.colaboratory.intrinsic+json": {
              "type": "string"
            },
            "text/plain": [
              "'cervical-cancer-prevention-week-2018,doncaster_uk,rdash_nhs'"
            ]
          },
          "metadata": {
            "tags": []
          },
          "execution_count": 8
        }
      ]
    },
    {
      "cell_type": "code",
      "metadata": {
        "colab": {
          "base_uri": "https://localhost:8080/"
        },
        "id": "FZ_AY3fFa7Ru",
        "outputId": "d744c977-69e2-4fd5-f4b3-8eef53749f4b"
      },
      "source": [
        "tr.take(5)"
      ],
      "execution_count": null,
      "outputs": [
        {
          "output_type": "execute_result",
          "data": {
            "text/plain": [
              "['cervical-cancer-prevention-week-2018,doncaster_uk,rdash_nhs',\n",
              " 'cervical-cancer-prevention-week-2018,bengnonny,dokilink',\n",
              " 'cervical-cancer-prevention-week-2018,\",samyarwood89',\n",
              " 'cervical-cancer-prevention-week-2018,dawnthomas2311,RCObsGyn',\n",
              " 'cervical-cancer-prevention-week-2018,hannah_travis1,grace_women']"
            ]
          },
          "metadata": {
            "tags": []
          },
          "execution_count": 9
        }
      ]
    },
    {
      "cell_type": "code",
      "metadata": {
        "id": "FmSRLvfAVuiJ",
        "colab": {
          "base_uri": "https://localhost:8080/",
          "height": 35
        },
        "outputId": "365dbc10-a9a1-42c4-e9fd-b928379557c1"
      },
      "source": [
        "tm.first()"
      ],
      "execution_count": null,
      "outputs": [
        {
          "output_type": "execute_result",
          "data": {
            "application/vnd.google.colaboratory.intrinsic+json": {
              "type": "string"
            },
            "text/plain": [
              "'cervical-cancer-prevention-week-2018,rdash_nhs,JoTrust'"
            ]
          },
          "metadata": {
            "tags": []
          },
          "execution_count": 10
        }
      ]
    },
    {
      "cell_type": "code",
      "metadata": {
        "id": "ZcaPGCmrVubH",
        "colab": {
          "base_uri": "https://localhost:8080/"
        },
        "outputId": "b9ff4da9-86f8-43d0-d85c-91af3dde123e"
      },
      "source": [
        "tm.take(5)"
      ],
      "execution_count": null,
      "outputs": [
        {
          "output_type": "execute_result",
          "data": {
            "text/plain": [
              "['cervical-cancer-prevention-week-2018,rdash_nhs,JoTrust',\n",
              " 'cervical-cancer-prevention-week-2018,rdash_nhs,JoTrust',\n",
              " 'cervical-cancer-prevention-week-2018,doncaster_uk,JoTrust',\n",
              " 'cervical-cancer-prevention-week-2018,doncaster_uk,rdash_nhs',\n",
              " 'cervical-cancer-prevention-week-2018,doncaster_uk,JoTrust']"
            ]
          },
          "metadata": {
            "tags": []
          },
          "execution_count": 11
        }
      ]
    },
    {
      "cell_type": "code",
      "metadata": {
        "colab": {
          "base_uri": "https://localhost:8080/"
        },
        "id": "W1DTzHDl6Zyv",
        "outputId": "d10ec1da-1ead-485b-f4df-8528a7bf6a18"
      },
      "source": [
        "tr.count(), tm.count()"
      ],
      "execution_count": null,
      "outputs": [
        {
          "output_type": "execute_result",
          "data": {
            "text/plain": [
              "(4008, 12364)"
            ]
          },
          "metadata": {
            "tags": []
          },
          "execution_count": 12
        }
      ]
    },
    {
      "cell_type": "code",
      "metadata": {
        "id": "8wDT6hyaVuTZ",
        "colab": {
          "base_uri": "https://localhost:8080/"
        },
        "outputId": "a57622bc-6860-4c6d-e829-afcc03305b4b"
      },
      "source": [
        "tr_c = tr.filter(lambda row: '\"' not in row).filter(lambda row: ' ' not in row).filter(lambda row: \"'\" not in row)\n",
        "tr_c.take(5)"
      ],
      "execution_count": null,
      "outputs": [
        {
          "output_type": "execute_result",
          "data": {
            "text/plain": [
              "['cervical-cancer-prevention-week-2018,doncaster_uk,rdash_nhs',\n",
              " 'cervical-cancer-prevention-week-2018,bengnonny,dokilink',\n",
              " 'cervical-cancer-prevention-week-2018,dawnthomas2311,RCObsGyn',\n",
              " 'cervical-cancer-prevention-week-2018,hannah_travis1,grace_women',\n",
              " 'cervical-cancer-prevention-week-2018,izzykacz,Roche']"
            ]
          },
          "metadata": {
            "tags": []
          },
          "execution_count": 13
        }
      ]
    },
    {
      "cell_type": "code",
      "metadata": {
        "id": "bskKS5J9VuOi",
        "colab": {
          "base_uri": "https://localhost:8080/"
        },
        "outputId": "5dc3a533-29ad-4195-cb9f-9e8339013284"
      },
      "source": [
        "tm_c = tm.filter(lambda row: '\"' not in row).filter(lambda row: ' ' not in row).filter(lambda row: \"'\" not in row)\n",
        "tm_c.take(5)"
      ],
      "execution_count": null,
      "outputs": [
        {
          "output_type": "execute_result",
          "data": {
            "text/plain": [
              "['cervical-cancer-prevention-week-2018,rdash_nhs,JoTrust',\n",
              " 'cervical-cancer-prevention-week-2018,rdash_nhs,JoTrust',\n",
              " 'cervical-cancer-prevention-week-2018,doncaster_uk,JoTrust',\n",
              " 'cervical-cancer-prevention-week-2018,doncaster_uk,rdash_nhs',\n",
              " 'cervical-cancer-prevention-week-2018,doncaster_uk,JoTrust']"
            ]
          },
          "metadata": {
            "tags": []
          },
          "execution_count": 14
        }
      ]
    },
    {
      "cell_type": "code",
      "metadata": {
        "id": "_g8a0wEMVuNT",
        "colab": {
          "base_uri": "https://localhost:8080/"
        },
        "outputId": "203e2d1b-d76f-4011-a330-c2ece8e11ecc"
      },
      "source": [
        "print('The old size of tr ',tr.count(),' and old size of tm ',tm.count())\n",
        "print('The new size of tr ',tr_c.count(),' and new size of tm ',tm_c.count())"
      ],
      "execution_count": null,
      "outputs": [
        {
          "output_type": "stream",
          "text": [
            "The old size of tr  4008  and old size of tm  12364\n",
            "The new size of tr  2793  and new size of tm  9006\n"
          ],
          "name": "stdout"
        }
      ]
    },
    {
      "cell_type": "code",
      "metadata": {
        "id": "qY-yTjllVuIk",
        "colab": {
          "base_uri": "https://localhost:8080/"
        },
        "outputId": "67dba16b-9d9e-422d-d060-34e805a2bf1a"
      },
      "source": [
        "union = tr_c.union(tm_c)\n",
        "union.take(5)"
      ],
      "execution_count": null,
      "outputs": [
        {
          "output_type": "execute_result",
          "data": {
            "text/plain": [
              "['cervical-cancer-prevention-week-2018,doncaster_uk,rdash_nhs',\n",
              " 'cervical-cancer-prevention-week-2018,bengnonny,dokilink',\n",
              " 'cervical-cancer-prevention-week-2018,dawnthomas2311,RCObsGyn',\n",
              " 'cervical-cancer-prevention-week-2018,hannah_travis1,grace_women',\n",
              " 'cervical-cancer-prevention-week-2018,izzykacz,Roche']"
            ]
          },
          "metadata": {
            "tags": []
          },
          "execution_count": 16
        }
      ]
    },
    {
      "cell_type": "code",
      "metadata": {
        "id": "TD0T0xfrVuHa",
        "colab": {
          "base_uri": "https://localhost:8080/"
        },
        "outputId": "9d2ec7f2-14b3-4e43-ae66-892efeae95f5"
      },
      "source": [
        "print('The size of union of tm and tr is ',union.count())"
      ],
      "execution_count": null,
      "outputs": [
        {
          "output_type": "stream",
          "text": [
            "The size of union of tm and tr is  11799\n"
          ],
          "name": "stdout"
        }
      ]
    },
    {
      "cell_type": "code",
      "metadata": {
        "id": "NZkfXVexVuEP",
        "colab": {
          "base_uri": "https://localhost:8080/"
        },
        "outputId": "0e58007d-403c-45ce-f88a-6b296ffc54c8"
      },
      "source": [
        "#   Map\n",
        "map = union.map(lambda x: (x,1))\n",
        "map.take(5)"
      ],
      "execution_count": null,
      "outputs": [
        {
          "output_type": "execute_result",
          "data": {
            "text/plain": [
              "[('cervical-cancer-prevention-week-2018,doncaster_uk,rdash_nhs', 1),\n",
              " ('cervical-cancer-prevention-week-2018,bengnonny,dokilink', 1),\n",
              " ('cervical-cancer-prevention-week-2018,dawnthomas2311,RCObsGyn', 1),\n",
              " ('cervical-cancer-prevention-week-2018,hannah_travis1,grace_women', 1),\n",
              " ('cervical-cancer-prevention-week-2018,izzykacz,Roche', 1)]"
            ]
          },
          "metadata": {
            "tags": []
          },
          "execution_count": 18
        }
      ]
    },
    {
      "cell_type": "code",
      "metadata": {
        "id": "XS43Srd_VuCZ"
      },
      "source": [
        "#   Reduce\n",
        "u_u = map.reduceByKey(lambda x,y:(x+y))"
      ],
      "execution_count": null,
      "outputs": []
    },
    {
      "cell_type": "code",
      "metadata": {
        "id": "OAFZXAPwa7OM",
        "colab": {
          "base_uri": "https://localhost:8080/"
        },
        "outputId": "1da2b6e2-f3c2-4301-f054-dbaed905bda6"
      },
      "source": [
        "u_u.take(10)"
      ],
      "execution_count": null,
      "outputs": [
        {
          "output_type": "execute_result",
          "data": {
            "text/plain": [
              "[('cervical-cancer-prevention-week-2018,hannah_travis1,grace_women', 3),\n",
              " ('cervical-cancer-prevention-week-2018,wustlphs,SitemanCenter', 3),\n",
              " ('cervical-cancer-prevention-week-2018,drcarolineg,GP_Update', 3),\n",
              " ('cervical-cancer-prevention-week-2018,alisonparker01,rdash_nhs', 3),\n",
              " ('cervical-cancer-prevention-week-2018,britnancy,Roche', 3),\n",
              " ('cervical-cancer-prevention-week-2018,cozbarrier,sloan_kettering', 3),\n",
              " ('cervical-cancer-prevention-week-2018,chris_g_smith1,sloan_kettering', 3),\n",
              " ('cervical-cancer-prevention-week-2018,sekretapproved,RyR_Empire', 3),\n",
              " ('cervical-cancer-prevention-week-2018,lindahalsey2,Advaxis', 3),\n",
              " ('cervical-cancer-prevention-week-2018,canisgallicus,dublinwellwoman', 3)]"
            ]
          },
          "metadata": {
            "tags": []
          },
          "execution_count": 20
        }
      ]
    },
    {
      "cell_type": "code",
      "metadata": {
        "colab": {
          "base_uri": "https://localhost:8080/"
        },
        "id": "XU1EuQGdLLRQ",
        "outputId": "ba6931e1-36d5-4e5c-8349-57438679cdd8"
      },
      "source": [
        "u_u.count()"
      ],
      "execution_count": null,
      "outputs": [
        {
          "output_type": "execute_result",
          "data": {
            "text/plain": [
              "4279"
            ]
          },
          "metadata": {
            "tags": []
          },
          "execution_count": 21
        }
      ]
    },
    {
      "cell_type": "markdown",
      "metadata": {
        "id": "Hxx5e4RMKTEH"
      },
      "source": [
        "# SAVE FILE AS CSV"
      ]
    },
    {
      "cell_type": "code",
      "metadata": {
        "id": "uaddzP7_FCXR"
      },
      "source": [
        "# path '\\user\\output\\uu'\n",
        "# 1\n",
        "u_u.saveAsTextFile('uu')"
      ],
      "execution_count": null,
      "outputs": []
    },
    {
      "cell_type": "code",
      "metadata": {
        "id": "RraXPgxKa7Ju"
      },
      "source": [
        "from fileinput import input \n",
        "# to get the file as input and to can be used to update and append the data in the file\n",
        "from glob import glob\n",
        "# finds all the pathnames matching a specified pattern\n",
        "# path '\\user\\output\\uu'\n",
        "u=''.join(sorted(input(glob('/content/uu' + \"/part-0000*\"))))\n",
        "# we will create a file with name U_U.csv\n",
        "with open('U_U.csv','w',encoding='utf-8') as file:\n",
        "    file.write('context,from,to,weight\\n')\n",
        "    file.write(str(u).replace('(','').replace(')','').replace(\"'\",'').replace(' ',''))"
      ],
      "execution_count": null,
      "outputs": []
    },
    {
      "cell_type": "code",
      "metadata": {
        "id": "Hcb_xl5eSBii",
        "colab": {
          "base_uri": "https://localhost:8080/",
          "height": 195
        },
        "outputId": "764da508-fd9f-4592-8e13-4ba2fd4c81bc"
      },
      "source": [
        "# 2\n",
        "#####################################################\n",
        "#################### PATH ###########################\n",
        "tweet.toPandas().to_csv('uu.csv')"
      ],
      "execution_count": null,
      "outputs": [
        {
          "output_type": "error",
          "ename": "NameError",
          "evalue": "ignored",
          "traceback": [
            "\u001b[0;31m---------------------------------------------------------------------------\u001b[0m",
            "\u001b[0;31mNameError\u001b[0m                                 Traceback (most recent call last)",
            "\u001b[0;32m<ipython-input-24-9e8ff90d5aa6>\u001b[0m in \u001b[0;36m<module>\u001b[0;34m()\u001b[0m\n\u001b[1;32m      2\u001b[0m \u001b[0;31m#####################################################\u001b[0m\u001b[0;34m\u001b[0m\u001b[0;34m\u001b[0m\u001b[0;34m\u001b[0m\u001b[0m\n\u001b[1;32m      3\u001b[0m \u001b[0;31m#################### PATH ###########################\u001b[0m\u001b[0;34m\u001b[0m\u001b[0;34m\u001b[0m\u001b[0;34m\u001b[0m\u001b[0m\n\u001b[0;32m----> 4\u001b[0;31m \u001b[0mtweet\u001b[0m\u001b[0;34m.\u001b[0m\u001b[0mtoPandas\u001b[0m\u001b[0;34m(\u001b[0m\u001b[0;34m)\u001b[0m\u001b[0;34m.\u001b[0m\u001b[0mto_csv\u001b[0m\u001b[0;34m(\u001b[0m\u001b[0;34m'uu.csv'\u001b[0m\u001b[0;34m)\u001b[0m\u001b[0;34m\u001b[0m\u001b[0;34m\u001b[0m\u001b[0m\n\u001b[0m",
            "\u001b[0;31mNameError\u001b[0m: name 'tweet' is not defined"
          ]
        }
      ]
    },
    {
      "cell_type": "code",
      "metadata": {
        "colab": {
          "base_uri": "https://localhost:8080/",
          "height": 35
        },
        "id": "s3hkEmxyuMZY",
        "outputId": "e4e9a76d-57d7-4197-e361-b5bac5231423"
      },
      "source": [
        "u_u.first()[0].split(',')[0]"
      ],
      "execution_count": null,
      "outputs": [
        {
          "output_type": "execute_result",
          "data": {
            "application/vnd.google.colaboratory.intrinsic+json": {
              "type": "string"
            },
            "text/plain": [
              "'cervical-cancer-prevention-week-2018'"
            ]
          },
          "metadata": {
            "tags": []
          },
          "execution_count": 25
        }
      ]
    },
    {
      "cell_type": "code",
      "metadata": {
        "id": "t8xKbPnKuMW4"
      },
      "source": [
        "m = u_u.map(lambda x: ((x[0].split(',')[0],x[0].split(',')[2]),x[1]))"
      ],
      "execution_count": null,
      "outputs": []
    },
    {
      "cell_type": "code",
      "metadata": {
        "colab": {
          "base_uri": "https://localhost:8080/"
        },
        "id": "psiJrvgSuMUS",
        "outputId": "4172a16c-fcc8-4b2c-ca77-a06a37ab05f5"
      },
      "source": [
        "m.first()"
      ],
      "execution_count": null,
      "outputs": [
        {
          "output_type": "execute_result",
          "data": {
            "text/plain": [
              "(('cervical-cancer-prevention-week-2018', 'grace_women'), 3)"
            ]
          },
          "metadata": {
            "tags": []
          },
          "execution_count": 27
        }
      ]
    },
    {
      "cell_type": "code",
      "metadata": {
        "id": "Y83aAbucwNLK"
      },
      "source": [
        "r = m.reduceByKey(lambda x,y: x+y)"
      ],
      "execution_count": null,
      "outputs": []
    },
    {
      "cell_type": "code",
      "metadata": {
        "colab": {
          "base_uri": "https://localhost:8080/"
        },
        "id": "DvjFXvdSwNI4",
        "outputId": "4da4279d-bb25-422d-844f-bc683ffcfbce"
      },
      "source": [
        "r.take(10)"
      ],
      "execution_count": null,
      "outputs": [
        {
          "output_type": "execute_result",
          "data": {
            "text/plain": [
              "[(('cervical-cancer-prevention-week-2018', 'GP_Update'), 3),\n",
              " (('cervical-cancer-prevention-week-2018', 'med_indonews'), 3),\n",
              " (('cervical-cancer-prevention-week-2018', 'Scouse_ma'), 9),\n",
              " (('dry-january-2018', 'ReadingFairyBex'), 3),\n",
              " (('dry-january-2018', 'kelleybra'), 3),\n",
              " (('time-to-talk-day-2018', 'bsgltd'), 3),\n",
              " (('time-to-talk-day-2018', 'FreshPlusGroup'), 12),\n",
              " (('rare-disease-day-2018', 'mandymcknight'), 3),\n",
              " (('rare-disease-day-2018', 'SWAN_UK'), 5),\n",
              " (('rare-disease-day-2018', 'the2weekwait'), 3)]"
            ]
          },
          "metadata": {
            "tags": []
          },
          "execution_count": 29
        }
      ]
    },
    {
      "cell_type": "code",
      "metadata": {
        "colab": {
          "base_uri": "https://localhost:8080/"
        },
        "id": "In8Sr_ZQwNEx",
        "outputId": "6018a7ba-6613-49b6-e982-b969cb81ab8d"
      },
      "source": [
        "r.takeOrdered(10, key = lambda x: -x[1])"
      ],
      "execution_count": null,
      "outputs": [
        {
          "output_type": "execute_result",
          "data": {
            "text/plain": [
              "[(('ocd-awareness-week-2018', 'lwbean'), 428),\n",
              " (('jeans-for-genes-day', 'MrsAnneTwist'), 328),\n",
              " (('mental-health-awareness-week-2018', 'JamesMelville'), 285),\n",
              " (('jeans-for-genes-day', 'JeansforGenes'), 254),\n",
              " (('wear-purple-for-jia-2018', 'Ed_Miliband'), 178),\n",
              " (('elf-day', 'alzheimerssoc'), 136),\n",
              " (('national-dementia-carers-2018', 'CareQualityComm'), 108),\n",
              " (('wear-purple-for-jia-2018', 'JIA_NRAS'), 82),\n",
              " (('time-to-talk-day-2018', 'The_UnSilent_'), 75),\n",
              " (('elf-day', 'thesovrangroup'), 75)]"
            ]
          },
          "metadata": {
            "tags": []
          },
          "execution_count": 30
        }
      ]
    },
    {
      "cell_type": "code",
      "metadata": {
        "colab": {
          "base_uri": "https://localhost:8080/",
          "height": 162
        },
        "id": "QyvFgqx-uMP6",
        "outputId": "7e8bfb47-d07f-409a-a444-6bc590279e45"
      },
      "source": [
        "outSort[-1]"
      ],
      "execution_count": null,
      "outputs": [
        {
          "output_type": "error",
          "ename": "NameError",
          "evalue": "ignored",
          "traceback": [
            "\u001b[0;31m---------------------------------------------------------------------------\u001b[0m",
            "\u001b[0;31mNameError\u001b[0m                                 Traceback (most recent call last)",
            "\u001b[0;32m<ipython-input-31-6cc45d2c4723>\u001b[0m in \u001b[0;36m<module>\u001b[0;34m()\u001b[0m\n\u001b[0;32m----> 1\u001b[0;31m \u001b[0moutSort\u001b[0m\u001b[0;34m[\u001b[0m\u001b[0;34m-\u001b[0m\u001b[0;36m1\u001b[0m\u001b[0;34m]\u001b[0m\u001b[0;34m\u001b[0m\u001b[0;34m\u001b[0m\u001b[0m\n\u001b[0m",
            "\u001b[0;31mNameError\u001b[0m: name 'outSort' is not defined"
          ]
        }
      ]
    },
    {
      "cell_type": "markdown",
      "metadata": {
        "id": "sVoxOljH_L44"
      },
      "source": [
        "## Top 10 (IC U) incoming users per context "
      ]
    },
    {
      "cell_type": "code",
      "metadata": {
        "id": "f6qSlFZO3nlE"
      },
      "source": [
        "r.filter(lambda x: x[0][0]=='16-days-of-action-2018').takeOrdered(10, key = lambda x: -x[1])"
      ],
      "execution_count": null,
      "outputs": []
    },
    {
      "cell_type": "code",
      "metadata": {
        "colab": {
          "base_uri": "https://localhost:8080/"
        },
        "id": "jbuRz0Rs3niM",
        "outputId": "db88db05-2f74-45bd-fbca-235e6d5d105e"
      },
      "source": [
        "r.filter(lambda x: x[0][0]=='brain-awareness-week-2018').takeOrdered(10, key = lambda x: -x[1])"
      ],
      "execution_count": null,
      "outputs": [
        {
          "output_type": "execute_result",
          "data": {
            "text/plain": [
              "[(('brain-awareness-week-2018', 'neuroscience'), 24),\n",
              " (('brain-awareness-week-2018', 'HydroAssoc'), 18),\n",
              " (('brain-awareness-week-2018', 'brianmaycom'), 15),\n",
              " (('brain-awareness-week-2018', 'UoR_LifeScience'), 15),\n",
              " (('brain-awareness-week-2018', 'jopackaj'), 14),\n",
              " (('brain-awareness-week-2018', 'LundbeckUS'), 12),\n",
              " (('brain-awareness-week-2018', 'ARUKnews'), 12),\n",
              " (('brain-awareness-week-2018', 'brainfilmfest'), 12),\n",
              " (('brain-awareness-week-2018', 'MercuryMOTG'), 10),\n",
              " (('brain-awareness-week-2018', 'CAUK1'), 10)]"
            ]
          },
          "metadata": {
            "tags": []
          },
          "execution_count": 32
        }
      ]
    },
    {
      "cell_type": "code",
      "metadata": {
        "colab": {
          "base_uri": "https://localhost:8080/"
        },
        "id": "bdlLdwUW-n_n",
        "outputId": "e577694b-ff42-4363-dc68-eb35fa2802d4"
      },
      "source": [
        "r.filter(lambda x: x[0][0]=='brain-injury-week-2018').takeOrdered(10, key = lambda x: -x[1])"
      ],
      "execution_count": null,
      "outputs": [
        {
          "output_type": "execute_result",
          "data": {
            "text/plain": [
              "[(('brain-injury-week-2018', 'HeadwayUK'), 65),\n",
              " (('brain-injury-week-2018', 'UKABIF'), 24),\n",
              " (('brain-injury-week-2018', 'RhonddaBryant'), 20),\n",
              " (('brain-injury-week-2018', 'cbituk'), 20),\n",
              " (('brain-injury-week-2018', 'NeuroConvention'), 19),\n",
              " (('brain-injury-week-2018', 'NovumLaw'), 16),\n",
              " (('brain-injury-week-2018', 'Headway_Roth'), 13),\n",
              " (('brain-injury-week-2018', 'Headwayshrop'), 12),\n",
              " (('brain-injury-week-2018', 'HeadwayESussex'), 12),\n",
              " (('brain-injury-week-2018', 'TrulyRoo'), 12)]"
            ]
          },
          "metadata": {
            "tags": []
          },
          "execution_count": 33
        }
      ]
    },
    {
      "cell_type": "code",
      "metadata": {
        "colab": {
          "base_uri": "https://localhost:8080/"
        },
        "id": "IArojk4u3ndq",
        "outputId": "3a8ecf97-8095-4641-e694-626ec45d5927"
      },
      "source": [
        "r.filter(lambda x: x[0][0]=='carers-week-2018').takeOrdered(10, key = lambda x: -x[1])"
      ],
      "execution_count": null,
      "outputs": [
        {
          "output_type": "execute_result",
          "data": {
            "text/plain": [
              "[(('carers-week-2018', 'HappyLittleHugh'), 36),\n",
              " (('carers-week-2018', 'carersweek'), 26),\n",
              " (('carers-week-2018', 'Familywork123'), 21),\n",
              " (('carers-week-2018', 'InvolveT1'), 16),\n",
              " (('carers-week-2018', 'CarersUK'), 16),\n",
              " (('carers-week-2018', 'NottsHealthcare'), 16),\n",
              " (('carers-week-2018', 'mndassoc'), 12),\n",
              " (('carers-week-2018', 'CarersLeeds'), 10),\n",
              " (('carers-week-2018', 'Joanna_Rapson'), 9),\n",
              " (('carers-week-2018', 'c_oreilly'), 9)]"
            ]
          },
          "metadata": {
            "tags": []
          },
          "execution_count": 34
        }
      ]
    },
    {
      "cell_type": "code",
      "metadata": {
        "colab": {
          "base_uri": "https://localhost:8080/"
        },
        "id": "QydUcHog54bf",
        "outputId": "e4991022-bd72-46a6-9528-b091b76f69a5"
      },
      "source": [
        "r.filter(lambda x: x[0][0]=='cervical-cancer-prevention-week-2018').takeOrdered(10, key = lambda x: -x[1])"
      ],
      "execution_count": null,
      "outputs": [
        {
          "output_type": "execute_result",
          "data": {
            "text/plain": [
              "[(('cervical-cancer-prevention-week-2018', 'JoTrust'), 16),\n",
              " (('cervical-cancer-prevention-week-2018', 'RCObsGyn'), 12),\n",
              " (('cervical-cancer-prevention-week-2018', 'AmericanCancer'), 12),\n",
              " (('cervical-cancer-prevention-week-2018', 'Scouse_ma'), 9),\n",
              " (('cervical-cancer-prevention-week-2018', 'Advaxis'), 9),\n",
              " (('cervical-cancer-prevention-week-2018', 'sloan_kettering'), 9),\n",
              " (('cervical-cancer-prevention-week-2018', 'rdash_nhs'), 9),\n",
              " (('cervical-cancer-prevention-week-2018', 'zopitaux'), 9),\n",
              " (('cervical-cancer-prevention-week-2018', 'CDC_Cancer'), 9),\n",
              " (('cervical-cancer-prevention-week-2018', 'StopHPVCancer'), 8)]"
            ]
          },
          "metadata": {
            "tags": []
          },
          "execution_count": 35
        }
      ]
    },
    {
      "cell_type": "code",
      "metadata": {
        "colab": {
          "base_uri": "https://localhost:8080/"
        },
        "id": "bb61pDhG54TA",
        "outputId": "56bad6ab-e18a-4437-8deb-88e3668c960b"
      },
      "source": [
        "r.filter(lambda x: x[0][0]=='dementia-action-week-2018').takeOrdered(10, key = lambda x: -x[1])"
      ],
      "execution_count": null,
      "outputs": [
        {
          "output_type": "execute_result",
          "data": {
            "text/plain": [
              "[(('dementia-action-week-2018', 'EustacedeSousa'), 15),\n",
              " (('dementia-action-week-2018', 'AvrilChaffeyPR'), 12),\n",
              " (('dementia-action-week-2018', 'CastleMall'), 10),\n",
              " (('dementia-action-week-2018', 'CornExchange'), 10),\n",
              " (('dementia-action-week-2018', 'SouthendRPiJams'), 6),\n",
              " (('dementia-action-week-2018', 'DesignRealityUK'), 6),\n",
              " (('dementia-action-week-2018', 'WhoseShoes'), 6),\n",
              " (('dementia-action-week-2018', 'DiverseAlz'), 6),\n",
              " (('dementia-action-week-2018', 'grahamemorris'), 6),\n",
              " (('dementia-action-week-2018', 'knowsleyhousing'), 6)]"
            ]
          },
          "metadata": {
            "tags": []
          },
          "execution_count": 36
        }
      ]
    },
    {
      "cell_type": "code",
      "metadata": {
        "colab": {
          "base_uri": "https://localhost:8080/"
        },
        "id": "J_TFkLPF54KC",
        "outputId": "a2d114e5-dc5d-4f8a-a6e6-6429cabe16d3"
      },
      "source": [
        "r.filter(lambda x: x[0][0]=='dry-january-2018').takeOrdered(10, key = lambda x: -x[1])"
      ],
      "execution_count": null,
      "outputs": [
        {
          "output_type": "execute_result",
          "data": {
            "text/plain": [
              "[(('dry-january-2018', '31DOVER'), 21),\n",
              " (('dry-january-2018', 'kategarraway'), 18),\n",
              " (('dry-january-2018', 'chesterdotcom'), 18),\n",
              " (('dry-january-2018', 'SeedlipDrinks'), 14),\n",
              " (('dry-january-2018', 'urbano32chester'), 12),\n",
              " (('dry-january-2018', 'luscombedrinks'), 6),\n",
              " (('dry-january-2018', 'anne_conolly'), 6),\n",
              " (('dry-january-2018', 'PunchlineGlos'), 6),\n",
              " (('dry-january-2018', 'dryjanuary'), 5),\n",
              " (('dry-january-2018', 'dianehenderiks'), 4)]"
            ]
          },
          "metadata": {
            "tags": []
          },
          "execution_count": 37
        }
      ]
    },
    {
      "cell_type": "code",
      "metadata": {
        "colab": {
          "base_uri": "https://localhost:8080/"
        },
        "id": "lJpmZPQh5339",
        "outputId": "6b823811-9519-433e-ee9a-111280f0c5ce"
      },
      "source": [
        "r.filter(lambda x: x[0][0]=='eating-disorder-awareness-week-2018').takeOrdered(10, key = lambda x: -x[1])"
      ],
      "execution_count": null,
      "outputs": [
        {
          "output_type": "execute_result",
          "data": {
            "text/plain": [
              "[(('eating-disorder-awareness-week-2018', 'beatED'), 30),\n",
              " (('eating-disorder-awareness-week-2018', 'PennyRed'), 27),\n",
              " (('eating-disorder-awareness-week-2018', 'normanlamb'), 24),\n",
              " (('eating-disorder-awareness-week-2018', 'jamesldowns'), 18),\n",
              " (('eating-disorder-awareness-week-2018', 'BeatEDSupport'), 16),\n",
              " (('eating-disorder-awareness-week-2018', 'StopBullyingGov'), 15),\n",
              " (('eating-disorder-awareness-week-2018', 'allontheboard'), 12),\n",
              " (('eating-disorder-awareness-week-2018', 'DrEMcNaught'), 12),\n",
              " (('eating-disorder-awareness-week-2018', 'HopeVirgo'), 11),\n",
              " (('eating-disorder-awareness-week-2018', 'EmiForLove'), 11)]"
            ]
          },
          "metadata": {
            "tags": []
          },
          "execution_count": 38
        }
      ]
    },
    {
      "cell_type": "code",
      "metadata": {
        "colab": {
          "base_uri": "https://localhost:8080/"
        },
        "id": "-Tphivnv53v8",
        "outputId": "08cf721d-a2b9-4b9e-974e-c4d4051de221"
      },
      "source": [
        "r.filter(lambda x: x[0][0]=='elf-day').takeOrdered(10, key = lambda x: -x[1])"
      ],
      "execution_count": null,
      "outputs": [
        {
          "output_type": "execute_result",
          "data": {
            "text/plain": [
              "[(('elf-day', 'alzheimerssoc'), 136),\n",
              " (('elf-day', 'thesovrangroup'), 75),\n",
              " (('elf-day', 'rdash_nhs'), 21),\n",
              " (('elf-day', 'Flaketweet'), 15),\n",
              " (('elf-day', 'RinginglowArrow'), 15),\n",
              " (('elf-day', 'NisaRetail'), 14),\n",
              " (('elf-day', 'heartofacutemed'), 12),\n",
              " (('elf-day', 'Hill_Care_'), 12),\n",
              " (('elf-day', 'jacksju1'), 10),\n",
              " (('elf-day', 'barryoor'), 10)]"
            ]
          },
          "metadata": {
            "tags": []
          },
          "execution_count": 39
        }
      ]
    },
    {
      "cell_type": "code",
      "metadata": {
        "colab": {
          "base_uri": "https://localhost:8080/"
        },
        "id": "GGWiUf3653oy",
        "outputId": "36aebce2-ed98-4615-b3b2-8b54c04c467b"
      },
      "source": [
        "r.filter(lambda x: x[0][0]=='elf-day').takeOrdered(10, key = lambda x: -x[1])"
      ],
      "execution_count": null,
      "outputs": [
        {
          "output_type": "execute_result",
          "data": {
            "text/plain": [
              "[(('elf-day', 'alzheimerssoc'), 136),\n",
              " (('elf-day', 'thesovrangroup'), 75),\n",
              " (('elf-day', 'rdash_nhs'), 21),\n",
              " (('elf-day', 'Flaketweet'), 15),\n",
              " (('elf-day', 'RinginglowArrow'), 15),\n",
              " (('elf-day', 'NisaRetail'), 14),\n",
              " (('elf-day', 'heartofacutemed'), 12),\n",
              " (('elf-day', 'Hill_Care_'), 12),\n",
              " (('elf-day', 'jacksju1'), 10),\n",
              " (('elf-day', 'barryoor'), 10)]"
            ]
          },
          "metadata": {
            "tags": []
          },
          "execution_count": 40
        }
      ]
    },
    {
      "cell_type": "code",
      "metadata": {
        "colab": {
          "base_uri": "https://localhost:8080/"
        },
        "id": "Ot_xBLNN53ih",
        "outputId": "e14a2437-dc4e-4110-9269-442401e91269"
      },
      "source": [
        "r.filter(lambda x: x[0][0]=='epilepsy-awareness-purple-day-2018').takeOrdered(10, key = lambda x: -x[1])"
      ],
      "execution_count": null,
      "outputs": [
        {
          "output_type": "execute_result",
          "data": {
            "text/plain": [
              "[(('epilepsy-awareness-purple-day-2018', 'gblagden'), 40),\n",
              " (('epilepsy-awareness-purple-day-2018', 'JennieJacques1'), 35),\n",
              " (('epilepsy-awareness-purple-day-2018', 'OntarioNDP'), 15),\n",
              " (('epilepsy-awareness-purple-day-2018', 'MissJainaSolo'), 13),\n",
              " (('epilepsy-awareness-purple-day-2018', 'cavs'), 9),\n",
              " (('epilepsy-awareness-purple-day-2018', 'MentorSkywalker'), 7),\n",
              " (('epilepsy-awareness-purple-day-2018', 'bsyngap'), 6),\n",
              " (('epilepsy-awareness-purple-day-2018', 'EpilepsyCO'), 6),\n",
              " (('epilepsy-awareness-purple-day-2018', 'epilepsyaction'), 6),\n",
              " (('epilepsy-awareness-purple-day-2018', 'minsaude'), 6)]"
            ]
          },
          "metadata": {
            "tags": []
          },
          "execution_count": 41
        }
      ]
    },
    {
      "cell_type": "code",
      "metadata": {
        "colab": {
          "base_uri": "https://localhost:8080/"
        },
        "id": "MVXzldos53c_",
        "outputId": "ba3eca1f-3ec0-4151-f23a-8a36e70aecda"
      },
      "source": [
        "r.filter(lambda x: x[0][0]=='experience-of-care-week-2018').takeOrdered(10, key = lambda x: -x[1])"
      ],
      "execution_count": null,
      "outputs": [
        {
          "output_type": "execute_result",
          "data": {
            "text/plain": [
              "[(('experience-of-care-week-2018', 'TerriSonger'), 24),\n",
              " (('experience-of-care-week-2018', 'uicfmr'), 18),\n",
              " (('experience-of-care-week-2018', 'UIHealth'), 14),\n",
              " (('experience-of-care-week-2018', 'BerylInstitute'), 14),\n",
              " (('experience-of-care-week-2018', 'VCHResearch'), 12),\n",
              " (('experience-of-care-week-2018', 'EvelynFigs'), 12),\n",
              " (('experience-of-care-week-2018', 'winslow_mark'), 12),\n",
              " (('experience-of-care-week-2018', 'Herrings18'), 12),\n",
              " (('experience-of-care-week-2018', 'MtSinaiQueens'), 10),\n",
              " (('experience-of-care-week-2018', 'HelenKaragio'), 9)]"
            ]
          },
          "metadata": {
            "tags": []
          },
          "execution_count": 42
        }
      ]
    },
    {
      "cell_type": "code",
      "metadata": {
        "colab": {
          "base_uri": "https://localhost:8080/"
        },
        "id": "Rr7SbEcH53Xh",
        "outputId": "cde8db2b-f9e8-4cd0-af66-a0b65babb29d"
      },
      "source": [
        "r.filter(lambda x: x[0][0]=='jeans-for-genes-day').takeOrdered(10, key = lambda x: -x[1])"
      ],
      "execution_count": null,
      "outputs": [
        {
          "output_type": "execute_result",
          "data": {
            "text/plain": [
              "[(('jeans-for-genes-day', 'MrsAnneTwist'), 328),\n",
              " (('jeans-for-genes-day', 'JeansforGenes'), 254),\n",
              " (('jeans-for-genes-day', 'jeans_for_genes'), 22),\n",
              " (('jeans-for-genes-day', 'BHPComms'), 12),\n",
              " (('jeans-for-genes-day', 'SmithMagenisUK'), 9),\n",
              " (('jeans-for-genes-day', 'BlancheNevile'), 6),\n",
              " (('jeans-for-genes-day', 'RachThomasLegal'), 6),\n",
              " (('jeans-for-genes-day', 'findacure_fdn'), 6),\n",
              " (('jeans-for-genes-day', 'medstarsuk'), 6),\n",
              " (('jeans-for-genes-day', 'wrigleyclaydon'), 6)]"
            ]
          },
          "metadata": {
            "tags": []
          },
          "execution_count": 43
        }
      ]
    },
    {
      "cell_type": "code",
      "metadata": {
        "colab": {
          "base_uri": "https://localhost:8080/"
        },
        "id": "f-Mn_i4953R2",
        "outputId": "c913b922-97c5-4c96-827c-881fdf6f88be"
      },
      "source": [
        "r.filter(lambda x: x[0][0]=='mens-health-week-2018').takeOrdered(10, key = lambda x: -x[1])"
      ],
      "execution_count": null,
      "outputs": [
        {
          "output_type": "execute_result",
          "data": {
            "text/plain": [
              "[(('mens-health-week-2018', 'mentalhealth'), 33),\n",
              " (('mens-health-week-2018', 'mhall55nine'), 30),\n",
              " (('mens-health-week-2018', 'HealthCareVoter'), 21),\n",
              " (('mens-health-week-2018', 'AntonJGunn'), 16),\n",
              " (('mens-health-week-2018', 'Wellbeing_Suff'), 12),\n",
              " (('mens-health-week-2018', 'Mick_Finnegan'), 12),\n",
              " (('mens-health-week-2018', 'CDCSTD'), 12),\n",
              " (('mens-health-week-2018', 'YoungMindsUK'), 12),\n",
              " (('mens-health-week-2018', 'ArthritisRUK'), 12),\n",
              " (('mens-health-week-2018', 'TheFHFoundation'), 9)]"
            ]
          },
          "metadata": {
            "tags": []
          },
          "execution_count": 44
        }
      ]
    },
    {
      "cell_type": "code",
      "metadata": {
        "colab": {
          "base_uri": "https://localhost:8080/"
        },
        "id": "Dkp6JQAB53Lr",
        "outputId": "7863278c-dbf0-4b0f-9f7e-20968c04ecf3"
      },
      "source": [
        "r.filter(lambda x: x[0][0]=='mental-health-awareness-week-2018').takeOrdered(10, key = lambda x: -x[1])"
      ],
      "execution_count": null,
      "outputs": [
        {
          "output_type": "execute_result",
          "data": {
            "text/plain": [
              "[(('mental-health-awareness-week-2018', 'JamesMelville'), 285),\n",
              " (('mental-health-awareness-week-2018', 'depressionarmy'), 13),\n",
              " (('mental-health-awareness-week-2018', 'BebeNC'), 12),\n",
              " (('mental-health-awareness-week-2018', 'o_Ovonvon'), 9),\n",
              " (('mental-health-awareness-week-2018', 'comicrelief'), 9),\n",
              " (('mental-health-awareness-week-2018', 'MindCharity'), 7),\n",
              " (('mental-health-awareness-week-2018', 'Molly3186'), 6),\n",
              " (('mental-health-awareness-week-2018', 'itvnews'), 6),\n",
              " (('mental-health-awareness-week-2018', 'AnneMarie'), 6),\n",
              " (('mental-health-awareness-week-2018', '1madwoman1962'), 6)]"
            ]
          },
          "metadata": {
            "tags": []
          },
          "execution_count": 45
        }
      ]
    },
    {
      "cell_type": "code",
      "metadata": {
        "colab": {
          "base_uri": "https://localhost:8080/"
        },
        "id": "nbLpQKzu53EJ",
        "outputId": "59d05445-340a-4d67-a50d-5a9ba7766b99"
      },
      "source": [
        "r.filter(lambda x: x[0][0]=='mnd-awareness-month-2018').takeOrdered(10, key = lambda x: -x[1])"
      ],
      "execution_count": null,
      "outputs": [
        {
          "output_type": "execute_result",
          "data": {
            "text/plain": [
              "[(('mnd-awareness-month-2018', 'Vicky_100K4MNDA'), 54),\n",
              " (('mnd-awareness-month-2018', 'NickGoldup1'), 48),\n",
              " (('mnd-awareness-month-2018', 'MNDeventsPlym'), 48),\n",
              " (('mnd-awareness-month-2018', 'MNDAEastSussex'), 39),\n",
              " (('mnd-awareness-month-2018', 'TVVictoriaG'), 34),\n",
              " (('mnd-awareness-month-2018', 'BBCSpotlight'), 30),\n",
              " (('mnd-awareness-month-2018', 'mndassoc'), 30),\n",
              " (('mnd-awareness-month-2018', 'chelseadee6'), 30),\n",
              " (('mnd-awareness-month-2018', 'Helping_HandsUK'), 24),\n",
              " (('mnd-awareness-month-2018', 'MNDScotland'), 22)]"
            ]
          },
          "metadata": {
            "tags": []
          },
          "execution_count": 46
        }
      ]
    },
    {
      "cell_type": "code",
      "metadata": {
        "colab": {
          "base_uri": "https://localhost:8080/"
        },
        "id": "eOxp8B4k529_",
        "outputId": "ccc0676c-f386-4a6f-985e-cc73d16747a5"
      },
      "source": [
        "r.filter(lambda x: x[0][0]=='national-dementia-carers-2018').takeOrdered(10, key = lambda x: -x[1])"
      ],
      "execution_count": null,
      "outputs": [
        {
          "output_type": "execute_result",
          "data": {
            "text/plain": [
              "[(('national-dementia-carers-2018', 'CareQualityComm'), 108),\n",
              " (('national-dementia-carers-2018', 'alzheimerssoc'), 12),\n",
              " (('national-dementia-carers-2018', 'EmmaB1'), 10),\n",
              " (('national-dementia-carers-2018', 'NEECCG'), 9),\n",
              " (('national-dementia-carers-2018', 'emmabraz01'), 8),\n",
              " (('national-dementia-carers-2018', 'lornafielker'), 4),\n",
              " (('national-dementia-carers-2018', 'gem_heuvelrug'), 4),\n",
              " (('national-dementia-carers-2018', 'CCranidge'), 3),\n",
              " (('national-dementia-carers-2018', 'TraffordCarers'), 3),\n",
              " (('national-dementia-carers-2018', 'EMDrSandy'), 3)]"
            ]
          },
          "metadata": {
            "tags": []
          },
          "execution_count": 47
        }
      ]
    },
    {
      "cell_type": "code",
      "metadata": {
        "colab": {
          "base_uri": "https://localhost:8080/"
        },
        "id": "NHbsLtLN524X",
        "outputId": "81d7e273-3189-45ca-c96f-ea749b3f7eae"
      },
      "source": [
        "r.filter(lambda x: x[0][0]=='no-smoking-day-2018').takeOrdered(10, key = lambda x: -x[1])"
      ],
      "execution_count": null,
      "outputs": [
        {
          "output_type": "execute_result",
          "data": {
            "text/plain": [
              "[(('no-smoking-day-2018', 'tenovuscancer'), 24),\n",
              " (('no-smoking-day-2018', 'publichealthni'), 24),\n",
              " (('no-smoking-day-2018', 'Rachael_Stray'), 21),\n",
              " (('no-smoking-day-2018', 'myvisionmatters'), 18),\n",
              " (('no-smoking-day-2018', 'PSNCNews'), 18),\n",
              " (('no-smoking-day-2018', 'SmokfreeNorfolk'), 12),\n",
              " (('no-smoking-day-2018', 'HealthySoT'), 12),\n",
              " (('no-smoking-day-2018', 'cooperspharmacy'), 10),\n",
              " (('no-smoking-day-2018', 'NPA1921'), 9),\n",
              " (('no-smoking-day-2018', 'SunderlandEcho'), 9)]"
            ]
          },
          "metadata": {
            "tags": []
          },
          "execution_count": 48
        }
      ]
    },
    {
      "cell_type": "code",
      "metadata": {
        "colab": {
          "base_uri": "https://localhost:8080/"
        },
        "id": "9F9YGm3-52y1",
        "outputId": "7ece3370-6312-436a-97ab-91520e1033cc"
      },
      "source": [
        "r.filter(lambda x: x[0][0]=='nutrition-and-hydration-week-2018').takeOrdered(10, key = lambda x: -x[1])"
      ],
      "execution_count": null,
      "outputs": [
        {
          "output_type": "execute_result",
          "data": {
            "text/plain": [
              "[(('nutrition-and-hydration-week-2018', 'EarleyTracy'), 36),\n",
              " (('nutrition-and-hydration-week-2018', 'NHWeek'), 24),\n",
              " (('nutrition-and-hydration-week-2018', 'CarersUK'), 22),\n",
              " (('nutrition-and-hydration-week-2018', 'WhippsDietitian'), 17),\n",
              " (('nutrition-and-hydration-week-2018', 'mynameisAndyJ'), 15),\n",
              " (('nutrition-and-hydration-week-2018', 'LancsHospitals'), 12),\n",
              " (('nutrition-and-hydration-week-2018', 'CwmTafDietetics'), 12),\n",
              " (('nutrition-and-hydration-week-2018', 'sarahmo1985'), 11),\n",
              " (('nutrition-and-hydration-week-2018', 'RdhRespiratory'), 10),\n",
              " (('nutrition-and-hydration-week-2018', 'jo_williams80'), 10)]"
            ]
          },
          "metadata": {
            "tags": []
          },
          "execution_count": 49
        }
      ]
    },
    {
      "cell_type": "code",
      "metadata": {
        "colab": {
          "base_uri": "https://localhost:8080/"
        },
        "id": "mIMSXZxl52tS",
        "outputId": "0e85f008-f338-4226-af12-4e166eb3a5b9"
      },
      "source": [
        "r.filter(lambda x: x[0][0]=='ocd-awareness-week-2018').takeOrdered(10, key = lambda x: -x[1])"
      ],
      "execution_count": null,
      "outputs": [
        {
          "output_type": "execute_result",
          "data": {
            "text/plain": [
              "[(('ocd-awareness-week-2018', 'lwbean'), 428),\n",
              " (('ocd-awareness-week-2018', 'OCDUK'), 14),\n",
              " (('ocd-awareness-week-2018', 'IOCDF'), 13),\n",
              " (('ocd-awareness-week-2018', 'TheOCDStories'), 8),\n",
              " (('ocd-awareness-week-2018', 'CarmenMcLeanPhD'), 6),\n",
              " (('ocd-awareness-week-2018', 'PositivePage_'), 6),\n",
              " (('ocd-awareness-week-2018', 'RodriguezLabSU'), 6),\n",
              " (('ocd-awareness-week-2018', 'Rogers_BH'), 3),\n",
              " (('ocd-awareness-week-2018', 'PureODoesntShow'), 3),\n",
              " (('ocd-awareness-week-2018', 'splarny91'), 3)]"
            ]
          },
          "metadata": {
            "tags": []
          },
          "execution_count": 50
        }
      ]
    },
    {
      "cell_type": "code",
      "metadata": {
        "colab": {
          "base_uri": "https://localhost:8080/"
        },
        "id": "3c1b9r9k52nm",
        "outputId": "308d8874-0af6-4826-c22a-14a5ccdf9e26"
      },
      "source": [
        "r.filter(lambda x: x[0][0]=='ovarian-cancer-awareness-month-2018').takeOrdered(10, key = lambda x: -x[1])"
      ],
      "execution_count": null,
      "outputs": [
        {
          "output_type": "execute_result",
          "data": {
            "text/plain": [
              "[(('ovarian-cancer-awareness-month-2018', 'NHSEngland'), 75),\n",
              " (('ovarian-cancer-awareness-month-2018', 'FelicityBarrTV'), 54),\n",
              " (('ovarian-cancer-awareness-month-2018', 'BethFratesMD'), 36),\n",
              " (('ovarian-cancer-awareness-month-2018', 'wrappedupnu'), 21),\n",
              " (('ovarian-cancer-awareness-month-2018', 'TESAROBIO'), 20),\n",
              " (('ovarian-cancer-awareness-month-2018', 'TargetOvarian'), 12),\n",
              " (('ovarian-cancer-awareness-month-2018', 'Nightowlmama'), 12),\n",
              " (('ovarian-cancer-awareness-month-2018', 'fkmunro'), 11),\n",
              " (('ovarian-cancer-awareness-month-2018', 'SBellasWays'), 9),\n",
              " (('ovarian-cancer-awareness-month-2018', 'OvarianCancerUK'), 9)]"
            ]
          },
          "metadata": {
            "tags": []
          },
          "execution_count": 51
        }
      ]
    },
    {
      "cell_type": "code",
      "metadata": {
        "colab": {
          "base_uri": "https://localhost:8080/"
        },
        "id": "FqpVdq9S52hH",
        "outputId": "b8086f17-ed2e-41af-e6b1-f9715e70f19e"
      },
      "source": [
        "r.filter(lambda x: x[0][0]=='rare-disease-day-2018').takeOrdered(10, key = lambda x: -x[1])"
      ],
      "execution_count": null,
      "outputs": [
        {
          "output_type": "execute_result",
          "data": {
            "text/plain": [
              "[(('rare-disease-day-2018', 'RareDiseases'), 30),\n",
              " (('rare-disease-day-2018', 'rarediseaseday'), 18),\n",
              " (('rare-disease-day-2018', 'MelissaTweets'), 15),\n",
              " (('rare-disease-day-2018', 'BoehringerSA'), 12),\n",
              " (('rare-disease-day-2018', 'RonnyAllan1'), 9),\n",
              " (('rare-disease-day-2018', 'TakedaOncology'), 6),\n",
              " (('rare-disease-day-2018', 'gofundme'), 6),\n",
              " (('rare-disease-day-2018', 'beatrizbecerrab'), 6),\n",
              " (('rare-disease-day-2018', 'SWAN_UK'), 5),\n",
              " (('rare-disease-day-2018', 'AddisonsUK'), 5)]"
            ]
          },
          "metadata": {
            "tags": []
          },
          "execution_count": 52
        }
      ]
    },
    {
      "cell_type": "code",
      "metadata": {
        "colab": {
          "base_uri": "https://localhost:8080/"
        },
        "id": "33cmpKfi52aT",
        "outputId": "1469c0de-bc10-4b1f-97de-fba342afc766"
      },
      "source": [
        "r.filter(lambda x: x[0][0]=='stress-awareness-day').takeOrdered(10, key = lambda x: -x[1])"
      ],
      "execution_count": null,
      "outputs": [
        {
          "output_type": "execute_result",
          "data": {
            "text/plain": [
              "[(('stress-awareness-day', 'Edu_Broker'), 47),\n",
              " (('stress-awareness-day', 'CrisisTextLine'), 30),\n",
              " (('stress-awareness-day', 'MindCharity'), 21),\n",
              " (('stress-awareness-day', 'TerriIrwin'), 21),\n",
              " (('stress-awareness-day', 'mentalhealth'), 18),\n",
              " (('stress-awareness-day', 'heads_together'), 15),\n",
              " (('stress-awareness-day', 'natlibscot'), 15),\n",
              " (('stress-awareness-day', 'calm'), 15),\n",
              " (('stress-awareness-day', 'AustraliaZoo'), 14),\n",
              " (('stress-awareness-day', 'OneMinuteBriefs'), 7)]"
            ]
          },
          "metadata": {
            "tags": []
          },
          "execution_count": 53
        }
      ]
    },
    {
      "cell_type": "code",
      "metadata": {
        "colab": {
          "base_uri": "https://localhost:8080/"
        },
        "id": "Cx6uSiqO9u2q",
        "outputId": "4b041f09-ba1e-49c4-eb5c-34a0606940ed"
      },
      "source": [
        "r.filter(lambda x: x[0][0]=='time-to-talk-day-2018').takeOrdered(10, key = lambda x: -x[1])"
      ],
      "execution_count": null,
      "outputs": [
        {
          "output_type": "execute_result",
          "data": {
            "text/plain": [
              "[(('time-to-talk-day-2018', 'The_UnSilent_'), 75),\n",
              " (('time-to-talk-day-2018', '2020Comms'), 66),\n",
              " (('time-to-talk-day-2018', 'TEWV'), 30),\n",
              " (('time-to-talk-day-2018', 'TheSportsman'), 15),\n",
              " (('time-to-talk-day-2018', 'FreshPlusGroup'), 12),\n",
              " (('time-to-talk-day-2018', 'pitcher_lise'), 12),\n",
              " (('time-to-talk-day-2018', 'HelpFaithHeal'), 11),\n",
              " (('time-to-talk-day-2018', 'Jeremy_Hunt'), 10),\n",
              " (('time-to-talk-day-2018', 'TheJackSexsmith'), 10),\n",
              " (('time-to-talk-day-2018', 'seemescotland'), 9)]"
            ]
          },
          "metadata": {
            "tags": []
          },
          "execution_count": 54
        }
      ]
    },
    {
      "cell_type": "code",
      "metadata": {
        "colab": {
          "base_uri": "https://localhost:8080/"
        },
        "id": "i3q9GSUg52Sc",
        "outputId": "df0d36cd-0d59-48cd-a402-e84d6cbbb40a"
      },
      "source": [
        "r.filter(lambda x: x[0][0]=='wear-purple-for-jia-2018').takeOrdered(10, key = lambda x: -x[1])"
      ],
      "execution_count": null,
      "outputs": [
        {
          "output_type": "execute_result",
          "data": {
            "text/plain": [
              "[(('wear-purple-for-jia-2018', 'Ed_Miliband'), 178),\n",
              " (('wear-purple-for-jia-2018', 'JIA_NRAS'), 82),\n",
              " (('wear-purple-for-jia-2018', 'CapsieNair'), 36),\n",
              " (('wear-purple-for-jia-2018', 'NRAS_UK'), 28),\n",
              " (('wear-purple-for-jia-2018', 'ArthritisRUK'), 22),\n",
              " (('wear-purple-for-jia-2018', 'JIA_Matters'), 18),\n",
              " (('wear-purple-for-jia-2018', 'BCRD_Study'), 15),\n",
              " (('wear-purple-for-jia-2018', 'JagtarNijjar'), 12),\n",
              " (('wear-purple-for-jia-2018', 'samjc1976'), 12),\n",
              " (('wear-purple-for-jia-2018', 'harryt68'), 12)]"
            ]
          },
          "metadata": {
            "tags": []
          },
          "execution_count": 55
        }
      ]
    },
    {
      "cell_type": "markdown",
      "metadata": {
        "id": "EMgGz3h4-3SC"
      },
      "source": [
        "## Top 10 user_user per context"
      ]
    },
    {
      "cell_type": "code",
      "metadata": {
        "id": "m_REQygXPv76"
      },
      "source": [
        "R = u_u"
      ],
      "execution_count": null,
      "outputs": []
    },
    {
      "cell_type": "code",
      "metadata": {
        "colab": {
          "base_uri": "https://localhost:8080/"
        },
        "id": "dl1vN4TH_wdj",
        "outputId": "a4a9730b-3be8-4cac-fba5-5cf4014386c0"
      },
      "source": [
        "R.filter(lambda x: x[0].split(',')[0]=='brain-injury-week-2018').\\\n",
        "map(lambda x: (x[1],x[0])).sortByKey(ascending= False).take(10)"
      ],
      "execution_count": null,
      "outputs": [
        {
          "output_type": "execute_result",
          "data": {
            "text/plain": [
              "[(8, 'brain-injury-week-2018,monkwoodprimary,Headway_Roth'),\n",
              " (6, 'brain-injury-week-2018,inpalliance,RhonddaBryant'),\n",
              " (6, 'brain-injury-week-2018,headwaydevon,karenw_wolfies'),\n",
              " (6, 'brain-injury-week-2018,abilearning,SY_ABIF'),\n",
              " (6, 'brain-injury-week-2018,inpalliance,UKABIF'),\n",
              " (6, 'brain-injury-week-2018,osborneslawyers,BenPosford1'),\n",
              " (5, 'brain-injury-week-2018,harrietbrooks89,NovumLaw'),\n",
              " (5, 'brain-injury-week-2018,cambraincns,NeuroConvention'),\n",
              " (5, 'brain-injury-week-2018,hsswyoungadults,HeadwaySSW'),\n",
              " (5, 'brain-injury-week-2018,cumbrianeuro,Cumbrianeuro')]"
            ]
          },
          "metadata": {
            "tags": []
          },
          "execution_count": 57
        }
      ]
    },
    {
      "cell_type": "code",
      "metadata": {
        "colab": {
          "base_uri": "https://localhost:8080/"
        },
        "id": "FUOWBQ7OPv4X",
        "outputId": "2a6be7be-0cbd-494b-ce29-d7fcddc5bdc2"
      },
      "source": [
        "R.filter(lambda x: x[0].split(',')[0]=='cervical-cancer-prevention-week-2018').\\\n",
        "map(lambda x: (x[1],x[0])).sortByKey(ascending= False).take(10)"
      ],
      "execution_count": null,
      "outputs": [
        {
          "output_type": "execute_result",
          "data": {
            "text/plain": [
              "[(3, 'cervical-cancer-prevention-week-2018,hannah_travis1,grace_women'),\n",
              " (3, 'cervical-cancer-prevention-week-2018,wustlphs,SitemanCenter'),\n",
              " (3, 'cervical-cancer-prevention-week-2018,drcarolineg,GP_Update'),\n",
              " (3, 'cervical-cancer-prevention-week-2018,alisonparker01,rdash_nhs'),\n",
              " (3, 'cervical-cancer-prevention-week-2018,britnancy,Roche'),\n",
              " (3, 'cervical-cancer-prevention-week-2018,cozbarrier,sloan_kettering'),\n",
              " (3, 'cervical-cancer-prevention-week-2018,chris_g_smith1,sloan_kettering'),\n",
              " (3, 'cervical-cancer-prevention-week-2018,sekretapproved,RyR_Empire'),\n",
              " (3, 'cervical-cancer-prevention-week-2018,lindahalsey2,Advaxis'),\n",
              " (3, 'cervical-cancer-prevention-week-2018,canisgallicus,dublinwellwoman')]"
            ]
          },
          "metadata": {
            "tags": []
          },
          "execution_count": 58
        }
      ]
    },
    {
      "cell_type": "code",
      "metadata": {
        "colab": {
          "base_uri": "https://localhost:8080/"
        },
        "id": "kowqmOiPPvxh",
        "outputId": "13be3de8-c70d-4f87-88b7-56c4cdd317ed"
      },
      "source": [
        "R.filter(lambda x: x[0].split(',')[0]=='dry-january-2018').\\\n",
        "map(lambda x: (x[1],x[0])).sortByKey(ascending= False).take(10)"
      ],
      "execution_count": null,
      "outputs": [
        {
          "output_type": "execute_result",
          "data": {
            "text/plain": [
              "[(3, 'dry-january-2018,eilstaypositive,31DOVER'),\n",
              " (3, 'dry-january-2018,greenwichhour,ReadingFairyBex'),\n",
              " (3, 'dry-january-2018,sutton_pm,EMJReviews'),\n",
              " (3, 'dry-january-2018,northbourne10,31DOVER'),\n",
              " (3, 'dry-january-2018,dianehenderiks,truelemon'),\n",
              " (3, 'dry-january-2018,biotechgirlokc,kelleybra'),\n",
              " (3, 'dry-january-2018,bliadhnaichean,kategarraway'),\n",
              " (3, 'dry-january-2018,geebeeblue12,kategarraway'),\n",
              " (3, 'dry-january-2018,chesterhour,chesterdotcom'),\n",
              " (3, 'dry-january-2018,indiechester,chesterdotcom')]"
            ]
          },
          "metadata": {
            "tags": []
          },
          "execution_count": 59
        }
      ]
    },
    {
      "cell_type": "code",
      "metadata": {
        "colab": {
          "base_uri": "https://localhost:8080/"
        },
        "id": "VdII_dPkjwNc",
        "outputId": "67bbe1b2-a349-425c-d809-f05ff522af65"
      },
      "source": [
        "R.filter(lambda x: x[0].split(',')[0]=='eating-disorder-awareness-week-2018').\\\n",
        "map(lambda x: (x[1],x[0])).sortByKey(ascending= False).take(10)"
      ],
      "execution_count": null,
      "outputs": [
        {
          "output_type": "execute_result",
          "data": {
            "text/plain": [
              "[(9, 'eating-disorder-awareness-week-2018,feralwrangler,mcxdermott'),\n",
              " (6, 'eating-disorder-awareness-week-2018,feralwrangler,DrEMcNaught'),\n",
              " (6, 'eating-disorder-awareness-week-2018,gemmyred,jamesldowns'),\n",
              " (5, 'eating-disorder-awareness-week-2018,cl2n2,EmiForLove'),\n",
              " (3, 'eating-disorder-awareness-week-2018,ukesafety,NSPCC'),\n",
              " (3, 'eating-disorder-awareness-week-2018,commcarewhct,CAMHS_CEDSworcs'),\n",
              " (3, 'eating-disorder-awareness-week-2018,tanalore145,StopBullyingGov'),\n",
              " (3, 'eating-disorder-awareness-week-2018,crazynutta,happifulkids'),\n",
              " (3, 'eating-disorder-awareness-week-2018,mel_f_lem,PennyRed'),\n",
              " (3, 'eating-disorder-awareness-week-2018,meganellaa,BeatEDSupport')]"
            ]
          },
          "metadata": {
            "tags": []
          },
          "execution_count": 60
        }
      ]
    },
    {
      "cell_type": "code",
      "metadata": {
        "colab": {
          "base_uri": "https://localhost:8080/"
        },
        "id": "DbikRk5JjwJf",
        "outputId": "6e5f89d2-0be6-4197-854c-4fb4ea07c33c"
      },
      "source": [
        "# 16-days-of-action-2018\n",
        "R.filter(lambda x: x[0].split(',')[0]=='16-days-of-action-2018').\\\n",
        "map(lambda x: (x[1],x[0])).sortByKey(ascending= False).take(10)"
      ],
      "execution_count": null,
      "outputs": [
        {
          "output_type": "execute_result",
          "data": {
            "text/plain": [
              "[(9, '16-days-of-action-2018,bethhywel,safelives_'),\n",
              " (6, '16-days-of-action-2018,worcesterhour,ParentsVoiceWor'),\n",
              " (6, '16-days-of-action-2018,samcchange,rapecrisisscot'),\n",
              " (6, '16-days-of-action-2018,879caldwell,KentPage'),\n",
              " (6, '16-days-of-action-2018,oscar_adria,theCFCR'),\n",
              " (5, '16-days-of-action-2018,maeve_unimelb,kNOwVAWdata'),\n",
              " (5, '16-days-of-action-2018,whatnewsscience,EVAWuk'),\n",
              " (5, '16-days-of-action-2018,annadjinn,EVAWuk'),\n",
              " (5, '16-days-of-action-2018,siobhra,GlobalWS_NUIG'),\n",
              " (5, '16-days-of-action-2018,sumingkhoo,GlobalWS_NUIG')]"
            ]
          },
          "metadata": {
            "tags": []
          },
          "execution_count": 61
        }
      ]
    },
    {
      "cell_type": "code",
      "metadata": {
        "colab": {
          "base_uri": "https://localhost:8080/"
        },
        "id": "KWoQ5vZTjwH_",
        "outputId": "1112ba07-1d33-4057-e57b-9137a5275085"
      },
      "source": [
        "R.filter(lambda x: x[0].split(',')[0]=='brain-awareness-week-2018').\\\n",
        "map(lambda x: (x[1],x[0])).sortByKey(ascending= False).take(10)"
      ],
      "execution_count": null,
      "outputs": [
        {
          "output_type": "execute_result",
          "data": {
            "text/plain": [
              "[(9, 'brain-awareness-week-2018,iowawalkforha,HydroAssoc'),\n",
              " (9, 'brain-awareness-week-2018,psychferry_msc,Psych_Review'),\n",
              " (6, 'brain-awareness-week-2018,mhall55nine,jopackaj'),\n",
              " (6, 'brain-awareness-week-2018,robinmartinpc,Baycrest'),\n",
              " (5, 'brain-awareness-week-2018,mariateresaes,UoR_LifeScience'),\n",
              " (4, 'brain-awareness-week-2018,neur0doc,UoR_LifeScience'),\n",
              " (4, 'brain-awareness-week-2018,shamba_lin,FoxNews'),\n",
              " (3, 'brain-awareness-week-2018,eaneurology,Brain_Facts_org'),\n",
              " (3, 'brain-awareness-week-2018,lauraignez,neuroscience'),\n",
              " (3, 'brain-awareness-week-2018,grabill,GuerillaScience')]"
            ]
          },
          "metadata": {
            "tags": []
          },
          "execution_count": 62
        }
      ]
    },
    {
      "cell_type": "code",
      "metadata": {
        "colab": {
          "base_uri": "https://localhost:8080/"
        },
        "id": "O2LYc69njwDR",
        "outputId": "31a4fdb4-add4-4647-86e6-236929367134"
      },
      "source": [
        "R.filter(lambda x: x[0].split(',')[0]=='carers-week-2018').\\\n",
        "map(lambda x: (x[1],x[0])).sortByKey(ascending= False).take(10)"
      ],
      "execution_count": null,
      "outputs": [
        {
          "output_type": "execute_result",
          "data": {
            "text/plain": [
              "[(6, 'carers-week-2018,tonymitch99,Familywork123'),\n",
              " (6, 'carers-week-2018,wearemanynomos,AWOCUK'),\n",
              " (6, 'carers-week-2018,johnwalsh88,InvolveT1'),\n",
              " (6, 'carers-week-2018,johnwalsh88,NottsHealthcare'),\n",
              " (6, 'carers-week-2018,involvet1,Familywork123'),\n",
              " (6, 'carers-week-2018,johnwalsh88,JaneDanforth'),\n",
              " (5, 'carers-week-2018,familywork123,carersweek'),\n",
              " (4, 'carers-week-2018,johnwalsh88,carersweek'),\n",
              " (4, 'carers-week-2018,janedanforth,InvolveT1'),\n",
              " (4, 'carers-week-2018,janedanforth,trevorclower')]"
            ]
          },
          "metadata": {
            "tags": []
          },
          "execution_count": 63
        }
      ]
    },
    {
      "cell_type": "code",
      "metadata": {
        "colab": {
          "base_uri": "https://localhost:8080/"
        },
        "id": "aXOiIqBzjwBo",
        "outputId": "6fa1864f-58df-4c93-badb-9e5b51b4b492"
      },
      "source": [
        "R.filter(lambda x: x[0].split(',')[0]=='dementia-action-week-2018').\\\n",
        "map(lambda x: (x[1],x[0])).sortByKey(ascending= False).take(10)"
      ],
      "execution_count": null,
      "outputs": [
        {
          "output_type": "execute_result",
          "data": {
            "text/plain": [
              "[(10, 'dementia-action-week-2018,otbcnmtd,CastleMall'),\n",
              " (6, 'dementia-action-week-2018,southendfun,SouthendRPiJams'),\n",
              " (6, 'dementia-action-week-2018,institutehpe,EustacedeSousa'),\n",
              " (6, 'dementia-action-week-2018,walsallpall,WalsallHcareNHS'),\n",
              " (4, 'dementia-action-week-2018,otbcnmtd,TNorwich1'),\n",
              " (3, 'dementia-action-week-2018,bptheyounger,grahamemorris'),\n",
              " (3, 'dementia-action-week-2018,house_memories,knowsleyhousing'),\n",
              " (3, 'dementia-action-week-2018,jayniebroughton,RamsdensFamily'),\n",
              " (3, 'dementia-action-week-2018,abimags,VOGCouncil'),\n",
              " (3, 'dementia-action-week-2018,anaisberinde,DeneezWilton')]"
            ]
          },
          "metadata": {
            "tags": []
          },
          "execution_count": 64
        }
      ]
    },
    {
      "cell_type": "code",
      "metadata": {
        "colab": {
          "base_uri": "https://localhost:8080/"
        },
        "id": "11TmAsGXjv-L",
        "outputId": "32fe7bbc-0e3c-427c-ecfa-4a380595f502"
      },
      "source": [
        "R.filter(lambda x: x[0].split(',')[0]=='dry-january-2018').\\\n",
        "map(lambda x: (x[1],x[0])).sortByKey(ascending= False).take(10)"
      ],
      "execution_count": null,
      "outputs": [
        {
          "output_type": "execute_result",
          "data": {
            "text/plain": [
              "[(3, 'dry-january-2018,eilstaypositive,31DOVER'),\n",
              " (3, 'dry-january-2018,greenwichhour,ReadingFairyBex'),\n",
              " (3, 'dry-january-2018,sutton_pm,EMJReviews'),\n",
              " (3, 'dry-january-2018,northbourne10,31DOVER'),\n",
              " (3, 'dry-january-2018,dianehenderiks,truelemon'),\n",
              " (3, 'dry-january-2018,biotechgirlokc,kelleybra'),\n",
              " (3, 'dry-january-2018,bliadhnaichean,kategarraway'),\n",
              " (3, 'dry-january-2018,geebeeblue12,kategarraway'),\n",
              " (3, 'dry-january-2018,chesterhour,chesterdotcom'),\n",
              " (3, 'dry-january-2018,indiechester,chesterdotcom')]"
            ]
          },
          "metadata": {
            "tags": []
          },
          "execution_count": 65
        }
      ]
    },
    {
      "cell_type": "code",
      "metadata": {
        "colab": {
          "base_uri": "https://localhost:8080/"
        },
        "id": "3aKfvC4_jv8U",
        "outputId": "db214e81-cb81-453b-bb68-a4f5a4b5dc2d"
      },
      "source": [
        "R.filter(lambda x: x[0].split(',')[0]=='eating-disorder-awareness-week-2018').\\\n",
        "map(lambda x: (x[1],x[0])).sortByKey(ascending= False).take(10)"
      ],
      "execution_count": null,
      "outputs": [
        {
          "output_type": "execute_result",
          "data": {
            "text/plain": [
              "[(9, 'eating-disorder-awareness-week-2018,feralwrangler,mcxdermott'),\n",
              " (6, 'eating-disorder-awareness-week-2018,feralwrangler,DrEMcNaught'),\n",
              " (6, 'eating-disorder-awareness-week-2018,gemmyred,jamesldowns'),\n",
              " (5, 'eating-disorder-awareness-week-2018,cl2n2,EmiForLove'),\n",
              " (3, 'eating-disorder-awareness-week-2018,ukesafety,NSPCC'),\n",
              " (3, 'eating-disorder-awareness-week-2018,commcarewhct,CAMHS_CEDSworcs'),\n",
              " (3, 'eating-disorder-awareness-week-2018,tanalore145,StopBullyingGov'),\n",
              " (3, 'eating-disorder-awareness-week-2018,crazynutta,happifulkids'),\n",
              " (3, 'eating-disorder-awareness-week-2018,mel_f_lem,PennyRed'),\n",
              " (3, 'eating-disorder-awareness-week-2018,meganellaa,BeatEDSupport')]"
            ]
          },
          "metadata": {
            "tags": []
          },
          "execution_count": 66
        }
      ]
    },
    {
      "cell_type": "code",
      "metadata": {
        "colab": {
          "base_uri": "https://localhost:8080/"
        },
        "id": "-8WyMtRYjv5J",
        "outputId": "d021c287-e8c7-4e17-9ce3-3311a699f55b"
      },
      "source": [
        "R.filter(lambda x: x[0].split(',')[0]=='elf-day').\\\n",
        "map(lambda x: (x[1],x[0])).sortByKey(ascending= False).take(10)"
      ],
      "execution_count": null,
      "outputs": [
        {
          "output_type": "execute_result",
          "data": {
            "text/plain": [
              "[(15, 'elf-day,drjude_g,rdash_nhs'),\n",
              " (6, 'elf-day,sheffieldis,superfastSY'),\n",
              " (6, 'elf-day,alzsoclondon,MycroftBrolly'),\n",
              " (6, 'elf-day,cccopticians,Hill_Care_'),\n",
              " (6, 'elf-day,brewbearuk,BrewBearUK'),\n",
              " (6, 'elf-day,hill_care_,alzheimerssoc'),\n",
              " (5, 'elf-day,trusatcgal,ashover_team'),\n",
              " (4, 'elf-day,alzsoclondon,alzheimerssoc'),\n",
              " (4, 'elf-day,alzsoclondon,AlzSocLondon'),\n",
              " (4, 'elf-day,stockshall,alzheimerssoc')]"
            ]
          },
          "metadata": {
            "tags": []
          },
          "execution_count": 67
        }
      ]
    },
    {
      "cell_type": "code",
      "metadata": {
        "colab": {
          "base_uri": "https://localhost:8080/"
        },
        "id": "6C81peAmjv2-",
        "outputId": "6be367b6-c506-4d43-8047-a4d10691dd54"
      },
      "source": [
        "R.filter(lambda x: x[0].split(',')[0]=='epilepsy-awareness-purple-day-2018').\\\n",
        "map(lambda x: (x[1],x[0])).sortByKey(ascending= False).take(10)"
      ],
      "execution_count": null,
      "outputs": [
        {
          "output_type": "execute_result",
          "data": {
            "text/plain": [
              "[(6, 'epilepsy-awareness-purple-day-2018,mawengwinnie,EpilepsyCO'),\n",
              " (5, 'epilepsy-awareness-purple-day-2018,nwparsons,Studiothink'),\n",
              " (5, 'epilepsy-awareness-purple-day-2018,npgk_,gblagden'),\n",
              " (5, 'epilepsy-awareness-purple-day-2018,andrewritchie18,himac_au'),\n",
              " (5, 'epilepsy-awareness-purple-day-2018,ebyzio,MissJainaSolo'),\n",
              " (5, 'epilepsy-awareness-purple-day-2018,npgk_,JennieJacques1'),\n",
              " (4, 'epilepsy-awareness-purple-day-2018,epilepsy_durham,MPCelina'),\n",
              " (4, 'epilepsy-awareness-purple-day-2018,epilepsy_durham,AydinJEL'),\n",
              " (4, 'epilepsy-awareness-purple-day-2018,ebyzio,MasterJediMara'),\n",
              " (3, 'epilepsy-awareness-purple-day-2018,marielandryxox,Aurora_MMJ')]"
            ]
          },
          "metadata": {
            "tags": []
          },
          "execution_count": 68
        }
      ]
    },
    {
      "cell_type": "code",
      "metadata": {
        "colab": {
          "base_uri": "https://localhost:8080/"
        },
        "id": "gdo_ighIq_B7",
        "outputId": "7b794d07-843c-40c0-82fa-672823b7469f"
      },
      "source": [
        "#   experience-of-care-week-2018\n",
        "R.filter(lambda x: x[0].split(',')[0]=='experience-of-care-week-2018').\\\n",
        "map(lambda x: (x[1],x[0])).sortByKey(ascending= False).take(10)"
      ],
      "execution_count": null,
      "outputs": [
        {
          "output_type": "execute_result",
          "data": {
            "text/plain": [
              "[(12, 'experience-of-care-week-2018,winslow_mark,TerriSonger'),\n",
              " (6, 'experience-of-care-week-2018,nobismhealth,VCHResearch'),\n",
              " (6, 'experience-of-care-week-2018,winslow_mark,winslow_mark'),\n",
              " (6, 'experience-of-care-week-2018,theoremlean,NYCHealthSystem'),\n",
              " (6, 'experience-of-care-week-2018,theoremlean,PressGaney'),\n",
              " (6, 'experience-of-care-week-2018,chandachacon,TerriSonger'),\n",
              " (6, 'experience-of-care-week-2018,theoremlean,ConeyIslandHosp'),\n",
              " (6, 'experience-of-care-week-2018,terrisonger,winslow_mark'),\n",
              " (5, 'experience-of-care-week-2018,carynschwab,MtSinaiQueens'),\n",
              " (5, 'experience-of-care-week-2018,jessica_mshs,MtSinaiQueens')]"
            ]
          },
          "metadata": {
            "tags": []
          },
          "execution_count": 69
        }
      ]
    },
    {
      "cell_type": "code",
      "metadata": {
        "colab": {
          "base_uri": "https://localhost:8080/"
        },
        "id": "KTI2WMVhq--i",
        "outputId": "fe107f9d-bdb9-4af6-c119-eca2ab2cc5f9"
      },
      "source": [
        "#   jeans-for-genes-day\n",
        "R.filter(lambda x: x[0].split(',')[0]=='jeans-for-genes-day').\\\n",
        "map(lambda x: (x[1],x[0])).sortByKey(ascending= False).take(10)"
      ],
      "execution_count": null,
      "outputs": [
        {
          "output_type": "execute_result",
          "data": {
            "text/plain": [
              "[(11, 'jeans-for-genes-day,luna1805bella,MrsAnneTwist'),\n",
              " (11, 'jeans-for-genes-day,justmishelie,MrsAnneTwist'),\n",
              " (8, 'jeans-for-genes-day,sarahnajera,MrsAnneTwist'),\n",
              " (8, 'jeans-for-genes-day,harryyxlouiis,MrsAnneTwist'),\n",
              " (8, 'jeans-for-genes-day,baestyles_,MrsAnneTwist'),\n",
              " (6, 'jeans-for-genes-day,wmrgl,BHPComms'),\n",
              " (6, 'jeans-for-genes-day,sasafofa5,MrsAnneTwist'),\n",
              " (6, 'jeans-for-genes-day,pbehrh,SmithMagenisUK'),\n",
              " (6, 'jeans-for-genes-day,dazza70smith,JeansforGenes'),\n",
              " (6, 'jeans-for-genes-day,susanellis100,RachThomasLegal')]"
            ]
          },
          "metadata": {
            "tags": []
          },
          "execution_count": 70
        }
      ]
    },
    {
      "cell_type": "code",
      "metadata": {
        "colab": {
          "base_uri": "https://localhost:8080/"
        },
        "id": "D7twDSJ2q-6y",
        "outputId": "b2d348e2-0d29-429b-8163-8e02cc844ba8"
      },
      "source": [
        "#   mens-health-week-2018\n",
        "R.filter(lambda x: x[0].split(',')[0]=='mens-health-week-2018').\\\n",
        "map(lambda x: (x[1],x[0])).sortByKey(ascending= False).take(10)"
      ],
      "execution_count": null,
      "outputs": [
        {
          "output_type": "execute_result",
          "data": {
            "text/plain": [
              "[(6, 'mens-health-week-2018,mayosport1,sportireland'),\n",
              " (3, 'mens-health-week-2018,healthpolicynew,TheAtlHealth'),\n",
              " (3, 'mens-health-week-2018,gabzcurtis,UNDEREXPOSEDthr'),\n",
              " (3, 'mens-health-week-2018,sunshineemz,HSELive'),\n",
              " (3, 'mens-health-week-2018,marzie2016,Place2Be'),\n",
              " (3, 'mens-health-week-2018,djamesgreenway,BRDBeyondRepair'),\n",
              " (3, 'mens-health-week-2018,fancysez,VCHhealthcare'),\n",
              " (3, 'mens-health-week-2018,claire02295,BenSupport4Auto'),\n",
              " (3, 'mens-health-week-2018,darrylymca,mentalhealth'),\n",
              " (3, 'mens-health-week-2018,traceyt12681,Wellbeing_Suff')]"
            ]
          },
          "metadata": {
            "tags": []
          },
          "execution_count": 71
        }
      ]
    },
    {
      "cell_type": "code",
      "metadata": {
        "colab": {
          "base_uri": "https://localhost:8080/"
        },
        "id": "9zxU7jr0q-3h",
        "outputId": "8bf01065-bdfe-4f15-caf2-2f2156338c4d"
      },
      "source": [
        "#   mental-health-awareness-week-2018\n",
        "R.filter(lambda x: x[0].split(',')[0]=='mental-health-awareness-week-2018').\\\n",
        "map(lambda x: (x[1],x[0])).sortByKey(ascending= False).take(10)"
      ],
      "execution_count": null,
      "outputs": [
        {
          "output_type": "execute_result",
          "data": {
            "text/plain": [
              "[(9, 'mental-health-awareness-week-2018,coolmentoring,o_Ovonvon'),\n",
              " (6, 'mental-health-awareness-week-2018,1of2vics,BebeNC'),\n",
              " (5, 'mental-health-awareness-week-2018,chloevardy1,allontheboard'),\n",
              " (3, 'mental-health-awareness-week-2018,ohmygoshbre,depressionarmy'),\n",
              " (3, 'mental-health-awareness-week-2018,euantennant1,JamesMelville'),\n",
              " (3, 'mental-health-awareness-week-2018,mickylisondra,JamesMelville'),\n",
              " (3, 'mental-health-awareness-week-2018,a1471,saeeddaniel'),\n",
              " (3, 'mental-health-awareness-week-2018,alex_rae,JamesMelville'),\n",
              " (3, 'mental-health-awareness-week-2018,mohaircashmere,comicrelief'),\n",
              " (3, 'mental-health-awareness-week-2018,onerdii,JamesMelville')]"
            ]
          },
          "metadata": {
            "tags": []
          },
          "execution_count": 72
        }
      ]
    },
    {
      "cell_type": "code",
      "metadata": {
        "colab": {
          "base_uri": "https://localhost:8080/"
        },
        "id": "cStrOH8eq-z8",
        "outputId": "a78df231-01d7-498c-d221-19e001d52812"
      },
      "source": [
        "#   mnd-awareness-month-2018\n",
        "R.filter(lambda x: x[0].split(',')[0]=='mnd-awareness-month-2018').\\\n",
        "map(lambda x: (x[1],x[0])).sortByKey(ascending= False).take(10)"
      ],
      "execution_count": null,
      "outputs": [
        {
          "output_type": "execute_result",
          "data": {
            "text/plain": [
              "[(9, 'mnd-awareness-month-2018,tvvictoriag,MNDeventsPlym'),\n",
              " (9, 'mnd-awareness-month-2018,nhcvirtual,MNDAEastSussex'),\n",
              " (6, 'mnd-awareness-month-2018,dsetters,MNDAEastSussex'),\n",
              " (6, 'mnd-awareness-month-2018,1visionhealth,QSPrivateHealth'),\n",
              " (6, 'mnd-awareness-month-2018,mndvolunteering,MNDAEastSussex'),\n",
              " (6, 'mnd-awareness-month-2018,sharontiday,MNDeventsPlym'),\n",
              " (6, 'mnd-awareness-month-2018,bombshells202a,MNDeventsPlym'),\n",
              " (6, 'mnd-awareness-month-2018,mndeventsplym,TVVictoriaG'),\n",
              " (6, 'mnd-awareness-month-2018,chelseadee6,MNDeventsPlym'),\n",
              " (6, 'mnd-awareness-month-2018,petersutton81,QSPrivateHealth')]"
            ]
          },
          "metadata": {
            "tags": []
          },
          "execution_count": 73
        }
      ]
    },
    {
      "cell_type": "code",
      "metadata": {
        "colab": {
          "base_uri": "https://localhost:8080/"
        },
        "id": "pmRPNMFkq-wP",
        "outputId": "8aff71ac-97cd-4638-9327-009e56045b9b"
      },
      "source": [
        "R.filter(lambda x: x[0].split(',')[0]=='national-dementia-carers-2018').\\\n",
        "map(lambda x: (x[1],x[0])).sortByKey(ascending= False).take(10)"
      ],
      "execution_count": null,
      "outputs": [
        {
          "output_type": "execute_result",
          "data": {
            "text/plain": [
              "[(4, 'national-dementia-carers-2018,paulrispens,gem_heuvelrug'),\n",
              " (3, 'national-dementia-carers-2018,madsleeqe,CareQualityComm'),\n",
              " (3, 'national-dementia-carers-2018,susannshaw,CareQualityComm'),\n",
              " (3, 'national-dementia-carers-2018,orleanshg,CCranidge'),\n",
              " (3, 'national-dementia-carers-2018,angelahillery,CareQualityComm'),\n",
              " (3, 'national-dementia-carers-2018,debjeff2003,CareQualityComm'),\n",
              " (3, 'national-dementia-carers-2018,vamostheatre,CareQualityComm'),\n",
              " (3, 'national-dementia-carers-2018,emacl13,CareQualityComm'),\n",
              " (3, 'national-dementia-carers-2018,traceyshrimpton,CareQualityComm'),\n",
              " (3, 'national-dementia-carers-2018,hazeltraining,VamosTheatre')]"
            ]
          },
          "metadata": {
            "tags": []
          },
          "execution_count": 74
        }
      ]
    },
    {
      "cell_type": "code",
      "metadata": {
        "colab": {
          "base_uri": "https://localhost:8080/"
        },
        "id": "2oGj9za4skE9",
        "outputId": "22dc7179-2856-46eb-a9b9-fd1c0f3a91be"
      },
      "source": [
        "#   no-smoking-day-2018\n",
        "R.filter(lambda x: x[0].split(',')[0]=='no-smoking-day-2018').\\\n",
        "map(lambda x: (x[1],x[0])).sortByKey(ascending= False).take(10)"
      ],
      "execution_count": null,
      "outputs": [
        {
          "output_type": "execute_result",
          "data": {
            "text/plain": [
              "[(6, 'no-smoking-day-2018,bblogrt,Rachael_Stray'),\n",
              " (6, 'no-smoking-day-2018,jwhitingecch,SmokfreeNorfolk'),\n",
              " (5, 'no-smoking-day-2018,pcactus93,smarttoothpicks'),\n",
              " (5, 'no-smoking-day-2018,kcbelfast,cooperspharmacy'),\n",
              " (5, 'no-smoking-day-2018,chrick81,cooperspharmacy'),\n",
              " (5, 'no-smoking-day-2018,jennyirvine5,ARCHLCLTD1'),\n",
              " (3, 'no-smoking-day-2018,k8enics,HealthySoT'),\n",
              " (3, 'no-smoking-day-2018,claireinan,Quit_Newcastle'),\n",
              " (3, 'no-smoking-day-2018,hildapalmer,UNISON_HS'),\n",
              " (3, 'no-smoking-day-2018,thegirlganghq,Rachael_Stray')]"
            ]
          },
          "metadata": {
            "tags": []
          },
          "execution_count": 75
        }
      ]
    },
    {
      "cell_type": "code",
      "metadata": {
        "colab": {
          "base_uri": "https://localhost:8080/"
        },
        "id": "aBzbaSUyskBa",
        "outputId": "a4677b9f-48cd-4e63-80b0-8a3f95e47712"
      },
      "source": [
        "#   nutrition-and-hydration-week-2018\n",
        "R.filter(lambda x: x[0].split(',')[0]=='nutrition-and-hydration-week-2018').\\\n",
        "map(lambda x: (x[1],x[0])).sortByKey(ascending= False).take(10)"
      ],
      "execution_count": null,
      "outputs": [
        {
          "output_type": "execute_result",
          "data": {
            "text/plain": [
              "[(15, 'nutrition-and-hydration-week-2018,mynameisandyj,EarleyTracy'),\n",
              " (14, 'nutrition-and-hydration-week-2018,mynameisandyj,WhippsDietitian'),\n",
              " (7, 'nutrition-and-hydration-week-2018,menna_stocks,iProSport'),\n",
              " (7, 'nutrition-and-hydration-week-2018,rbiltcliffe,sarahmo1985'),\n",
              " (6, 'nutrition-and-hydration-week-2018,kimpantoniou,Kafoodle'),\n",
              " (6, 'nutrition-and-hydration-week-2018,mynameisandyj,NGHHammerson'),\n",
              " (6, 'nutrition-and-hydration-week-2018,mynameisandyj,WhippsCrossHosp'),\n",
              " (6, 'nutrition-and-hydration-week-2018,mynameisandyj,homesnutrition'),\n",
              " (6, 'nutrition-and-hydration-week-2018,rbiltcliffe,RBiltcliffe'),\n",
              " (6, 'nutrition-and-hydration-week-2018,mynameisandyj,LancsHospitals')]"
            ]
          },
          "metadata": {
            "tags": []
          },
          "execution_count": 76
        }
      ]
    },
    {
      "cell_type": "code",
      "metadata": {
        "colab": {
          "base_uri": "https://localhost:8080/"
        },
        "id": "SMF5AvJIsj_t",
        "outputId": "4c601447-aefd-4da1-880a-ed95edd4eb67"
      },
      "source": [
        "#   ocd-awareness-week-2018\n",
        "R.filter(lambda x: x[0].split(',')[0]=='ocd-awareness-week-2018').\\\n",
        "map(lambda x: (x[1],x[0])).sortByKey(ascending= False).take(10)"
      ],
      "execution_count": null,
      "outputs": [
        {
          "output_type": "execute_result",
          "data": {
            "text/plain": [
              "[(5, 'ocd-awareness-week-2018,denverinfocus,TheOCDStories'),\n",
              " (3, 'ocd-awareness-week-2018,sweneevee,lwbean'),\n",
              " (3, 'ocd-awareness-week-2018,jinxxjams,lwbean'),\n",
              " (3, 'ocd-awareness-week-2018,calligraphymmo,lwbean'),\n",
              " (3, 'ocd-awareness-week-2018,nihiliaxiv,lwbean'),\n",
              " (3, 'ocd-awareness-week-2018,eleanorrose2016,OCDUK'),\n",
              " (3, 'ocd-awareness-week-2018,_inaris,lwbean'),\n",
              " (3, 'ocd-awareness-week-2018,jester_cosplay,lwbean'),\n",
              " (3, 'ocd-awareness-week-2018,phinsvsviolence,lwbean'),\n",
              " (3, 'ocd-awareness-week-2018,_its_jordii,lwbean')]"
            ]
          },
          "metadata": {
            "tags": []
          },
          "execution_count": 77
        }
      ]
    },
    {
      "cell_type": "code",
      "metadata": {
        "colab": {
          "base_uri": "https://localhost:8080/"
        },
        "id": "Jl7Q75Cvsj8v",
        "outputId": "c4dfa7ba-7616-41b6-b33f-cd212e36adde"
      },
      "source": [
        "#   ovarian-cancer-awareness-month-2018\n",
        "R.filter(lambda x: x[0].split(',')[0]=='ovarian-cancer-awareness-month-2018').\\\n",
        "map(lambda x: (x[1],x[0])).sortByKey(ascending= False).take(10)"
      ],
      "execution_count": null,
      "outputs": [
        {
          "output_type": "execute_result",
          "data": {
            "text/plain": [
              "[(8, 'ovarian-cancer-awareness-month-2018,eatonrifles1,fkmunro'),\n",
              " (6, 'ovarian-cancer-awareness-month-2018,kingallsauthor,TESAROBIO'),\n",
              " (6, 'ovarian-cancer-awareness-month-2018,docitfoundation,NOCC_National'),\n",
              " (5, 'ovarian-cancer-awareness-month-2018,awomensthing,TEALWALK'),\n",
              " (4, 'ovarian-cancer-awareness-month-2018,rbrosemer,TESAROBIO'),\n",
              " (3, 'ovarian-cancer-awareness-month-2018,thomasgarcia44,FelicityBarrTV'),\n",
              " (3, 'ovarian-cancer-awareness-month-2018,ninanannaritv,FelicityBarrTV'),\n",
              " (3, 'ovarian-cancer-awareness-month-2018,eatonrifles1,CancerCarerChat'),\n",
              " (3, 'ovarian-cancer-awareness-month-2018,twittmanageruk,slvrdragonfly'),\n",
              " (3, 'ovarian-cancer-awareness-month-2018,eveappeal,EatonRifles1')]"
            ]
          },
          "metadata": {
            "tags": []
          },
          "execution_count": 78
        }
      ]
    },
    {
      "cell_type": "code",
      "metadata": {
        "colab": {
          "base_uri": "https://localhost:8080/"
        },
        "id": "7TzZInmPtqyK",
        "outputId": "0a945a12-d155-4d43-e1f5-5448d255474c"
      },
      "source": [
        "#   rare-disease-day-2018\n",
        "R.filter(lambda x: x[0].split(',')[0]=='rare-disease-day-2018').\\\n",
        "map(lambda x: (x[1],x[0])).sortByKey(ascending= False).take(10)"
      ],
      "execution_count": null,
      "outputs": [
        {
          "output_type": "execute_result",
          "data": {
            "text/plain": [
              "[(9, 'rare-disease-day-2018,augustomuench,BoehringerSA'),\n",
              " (9, 'rare-disease-day-2018,maxinepatterson,RonnyAllan1'),\n",
              " (5, 'rare-disease-day-2018,passitonparents,SWAN_UK'),\n",
              " (5, 'rare-disease-day-2018,paulgmcnamara,AddisonsUK'),\n",
              " (3, 'rare-disease-day-2018,zannafranna,PTENResearch'),\n",
              " (3, 'rare-disease-day-2018,flaca_flaca1,RareDiseases'),\n",
              " (3, 'rare-disease-day-2018,samdownie,DannyDidOrg'),\n",
              " (3, 'rare-disease-day-2018,osteoclark,BrittleBoneUK'),\n",
              " (3, 'rare-disease-day-2018,jwlawson57,JayRuderman'),\n",
              " (3, 'rare-disease-day-2018,juslyn259,mandymcknight')]"
            ]
          },
          "metadata": {
            "tags": []
          },
          "execution_count": 79
        }
      ]
    },
    {
      "cell_type": "code",
      "metadata": {
        "colab": {
          "base_uri": "https://localhost:8080/"
        },
        "id": "e4iMXVqttqtj",
        "outputId": "f6fd4989-dbba-4321-a477-865480f48d8b"
      },
      "source": [
        "#   stress-awareness-day\n",
        "R.filter(lambda x: x[0].split(',')[0]=='stress-awareness-day').\\\n",
        "map(lambda x: (x[1],x[0])).sortByKey(ascending= False).take(10)"
      ],
      "execution_count": null,
      "outputs": [
        {
          "output_type": "execute_result",
          "data": {
            "text/plain": [
              "[(5, 'stress-awareness-day,terrifictia94,Edu_Broker'),\n",
              " (3, 'stress-awareness-day,telltheteacher,MindCharity'),\n",
              " (3, 'stress-awareness-day,sophiekonstan,CrisisTextLine'),\n",
              " (3, 'stress-awareness-day,gastonjade,TerriIrwin'),\n",
              " (3, 'stress-awareness-day,susanmu0,leedslibraries'),\n",
              " (3, 'stress-awareness-day,slave_4_b,_JessicaDavies'),\n",
              " (3, 'stress-awareness-day,cdavidge,CoastlneConsult'),\n",
              " (3, 'stress-awareness-day,joe__af,Jemma_Barratt'),\n",
              " (3, 'stress-awareness-day,lynne_mount,IrnStu'),\n",
              " (3, 'stress-awareness-day,linchpindc,NatlHeadStart')]"
            ]
          },
          "metadata": {
            "tags": []
          },
          "execution_count": 80
        }
      ]
    },
    {
      "cell_type": "code",
      "metadata": {
        "colab": {
          "base_uri": "https://localhost:8080/"
        },
        "id": "hkMj2BmHtqrw",
        "outputId": "ef9a5197-62a2-4a80-96f1-c3019af90205"
      },
      "source": [
        "R.filter(lambda x: x[0].split(',')[0]=='wear-purple-for-jia-2018').\\\n",
        "map(lambda x: (x[1],x[0])).sortByKey(ascending= False).take(10)"
      ],
      "execution_count": null,
      "outputs": [
        {
          "output_type": "execute_result",
          "data": {
            "text/plain": [
              "[(21, 'wear-purple-for-jia-2018,jenniej95408140,JIA_NRAS'),\n",
              " (9, 'wear-purple-for-jia-2018,diederikdecock,CapsieNair'),\n",
              " (9, 'wear-purple-for-jia-2018,liscordingley,CapsieNair'),\n",
              " (8, 'wear-purple-for-jia-2018,harryt68,JIA_NRAS'),\n",
              " (6, 'wear-purple-for-jia-2018,ismartresearch,JIA_NRAS'),\n",
              " (6, 'wear-purple-for-jia-2018,simonrstones,CapsieNair'),\n",
              " (5, 'wear-purple-for-jia-2018,jia_matters,JIA_NRAS'),\n",
              " (5, 'wear-purple-for-jia-2018,crtviewpoint,CRTViewPoint'),\n",
              " (5, 'wear-purple-for-jia-2018,welly564,JIA_NRAS'),\n",
              " (5, 'wear-purple-for-jia-2018,simonrstones,JIA_NRAS')]"
            ]
          },
          "metadata": {
            "tags": []
          },
          "execution_count": 81
        }
      ]
    },
    {
      "cell_type": "code",
      "metadata": {
        "colab": {
          "base_uri": "https://localhost:8080/"
        },
        "id": "asI0zuEwtqpA",
        "outputId": "d4b83543-95fb-4155-df8c-dc91de062815"
      },
      "source": [
        "R.filter(lambda x: x[0].split(',')[0]=='time-to-talk-day-2018').\\\n",
        "map(lambda x: (x[1],x[0])).sortByKey(ascending= False).take(10)"
      ],
      "execution_count": null,
      "outputs": [
        {
          "output_type": "execute_result",
          "data": {
            "text/plain": [
              "[(16, 'time-to-talk-day-2018,pitcher_lise,TEWV'),\n",
              " (9, 'time-to-talk-day-2018,pitcher_lise,edactivistmum'),\n",
              " (9, 'time-to-talk-day-2018,neutralbrit,2020Comms'),\n",
              " (8, 'time-to-talk-day-2018,pitcher_lise,HelpFaithHeal'),\n",
              " (6, 'time-to-talk-day-2018,theforgehead,BACP'),\n",
              " (6, 'time-to-talk-day-2018,clemesha_alison,2020Comms'),\n",
              " (6, 'time-to-talk-day-2018,promderby2,PochatTraining'),\n",
              " (6, 'time-to-talk-day-2018,pitcher_lise,Jeremy_Hunt'),\n",
              " (6, 'time-to-talk-day-2018,shakatak7,2020Comms'),\n",
              " (6, 'time-to-talk-day-2018,heatherbowes7,TEWV')]"
            ]
          },
          "metadata": {
            "tags": []
          },
          "execution_count": 82
        }
      ]
    },
    {
      "cell_type": "code",
      "metadata": {
        "colab": {
          "base_uri": "https://localhost:8080/"
        },
        "id": "X5VELp8_tqnA",
        "outputId": "3c61fca7-f89f-44b8-becc-d4ffc293b71d"
      },
      "source": [
        "R.filter(lambda x: x[0].split(',')[0]=='stress-awareness-day').\\\n",
        "map(lambda x: (x[1],x[0])).sortByKey(ascending= False).take(10)"
      ],
      "execution_count": null,
      "outputs": [
        {
          "output_type": "execute_result",
          "data": {
            "text/plain": [
              "[(5, 'stress-awareness-day,terrifictia94,Edu_Broker'),\n",
              " (3, 'stress-awareness-day,telltheteacher,MindCharity'),\n",
              " (3, 'stress-awareness-day,sophiekonstan,CrisisTextLine'),\n",
              " (3, 'stress-awareness-day,gastonjade,TerriIrwin'),\n",
              " (3, 'stress-awareness-day,susanmu0,leedslibraries'),\n",
              " (3, 'stress-awareness-day,slave_4_b,_JessicaDavies'),\n",
              " (3, 'stress-awareness-day,cdavidge,CoastlneConsult'),\n",
              " (3, 'stress-awareness-day,joe__af,Jemma_Barratt'),\n",
              " (3, 'stress-awareness-day,lynne_mount,IrnStu'),\n",
              " (3, 'stress-awareness-day,linchpindc,NatlHeadStart')]"
            ]
          },
          "metadata": {
            "tags": []
          },
          "execution_count": 83
        }
      ]
    },
    {
      "cell_type": "code",
      "metadata": {
        "colab": {
          "base_uri": "https://localhost:8080/"
        },
        "id": "hvJC-Sarsj6v",
        "outputId": "65cac79a-96c6-4fbe-ac25-292531869ec6"
      },
      "source": [
        "R.filter(lambda x: x[0].split(',')[0]=='stress-awareness-day').\\\n",
        "map(lambda x: (x[1],x[0])).sortByKey(ascending= False).take(10)"
      ],
      "execution_count": null,
      "outputs": [
        {
          "output_type": "execute_result",
          "data": {
            "text/plain": [
              "[(5, 'stress-awareness-day,terrifictia94,Edu_Broker'),\n",
              " (3, 'stress-awareness-day,telltheteacher,MindCharity'),\n",
              " (3, 'stress-awareness-day,sophiekonstan,CrisisTextLine'),\n",
              " (3, 'stress-awareness-day,gastonjade,TerriIrwin'),\n",
              " (3, 'stress-awareness-day,susanmu0,leedslibraries'),\n",
              " (3, 'stress-awareness-day,slave_4_b,_JessicaDavies'),\n",
              " (3, 'stress-awareness-day,cdavidge,CoastlneConsult'),\n",
              " (3, 'stress-awareness-day,joe__af,Jemma_Barratt'),\n",
              " (3, 'stress-awareness-day,lynne_mount,IrnStu'),\n",
              " (3, 'stress-awareness-day,linchpindc,NatlHeadStart')]"
            ]
          },
          "metadata": {
            "tags": []
          },
          "execution_count": 84
        }
      ]
    },
    {
      "cell_type": "code",
      "metadata": {
        "colab": {
          "base_uri": "https://localhost:8080/"
        },
        "id": "QOE-Ob8iu9Wc",
        "outputId": "ed2cf2ba-1720-4aae-a289-ad4c9562c69a"
      },
      "source": [
        "p1 = sc.textFile('/content/uu/part-00000')\n",
        "p2 = sc.textFile('/content/uu/part-00001')\n",
        "p3 = sc.textFile('/content/uu/part-00002')\n",
        "p4 = sc.textFile('/content/uu/part-00003')\n",
        "sp = spark.read.csv('/content/uu/part-0000*')\n",
        "sp.show(5)"
      ],
      "execution_count": null,
      "outputs": [
        {
          "output_type": "stream",
          "text": [
            "+--------------------+--------------+--------------+---+\n",
            "|                 _c0|           _c1|           _c2|_c3|\n",
            "+--------------------+--------------+--------------+---+\n",
            "|('cervical-cancer...|hannah_travis1|  grace_women'| 3)|\n",
            "|('cervical-cancer...|      wustlphs|SitemanCenter'| 3)|\n",
            "|('cervical-cancer...|   drcarolineg|    GP_Update'| 3)|\n",
            "|('cervical-cancer...|alisonparker01|    rdash_nhs'| 3)|\n",
            "|('cervical-cancer...|     britnancy|        Roche'| 3)|\n",
            "+--------------------+--------------+--------------+---+\n",
            "only showing top 5 rows\n",
            "\n"
          ],
          "name": "stdout"
        }
      ]
    },
    {
      "cell_type": "code",
      "metadata": {
        "id": "KWciR26qu9Ur"
      },
      "source": [
        "# union\n",
        "UU = p1.union(p2).union(p3).union(p4)"
      ],
      "execution_count": null,
      "outputs": []
    },
    {
      "cell_type": "code",
      "metadata": {
        "colab": {
          "base_uri": "https://localhost:8080/"
        },
        "id": "E9thHGNdy1SX",
        "outputId": "82b11264-988d-4bd5-b409-f7806a9c0dcc"
      },
      "source": [
        "UU.take(5)"
      ],
      "execution_count": null,
      "outputs": [
        {
          "output_type": "execute_result",
          "data": {
            "text/plain": [
              "[\"('cervical-cancer-prevention-week-2018,hannah_travis1,grace_women', 3)\",\n",
              " \"('cervical-cancer-prevention-week-2018,wustlphs,SitemanCenter', 3)\",\n",
              " \"('cervical-cancer-prevention-week-2018,drcarolineg,GP_Update', 3)\",\n",
              " \"('cervical-cancer-prevention-week-2018,alisonparker01,rdash_nhs', 3)\",\n",
              " \"('cervical-cancer-prevention-week-2018,britnancy,Roche', 3)\"]"
            ]
          },
          "metadata": {
            "tags": []
          },
          "execution_count": 87
        }
      ]
    },
    {
      "cell_type": "code",
      "metadata": {
        "colab": {
          "base_uri": "https://localhost:8080/"
        },
        "id": "ijE3nBuXu9OK",
        "outputId": "3f8a8cce-5d2d-48a0-a3d4-9e488ed27b54"
      },
      "source": [
        "UU.count()"
      ],
      "execution_count": null,
      "outputs": [
        {
          "output_type": "execute_result",
          "data": {
            "text/plain": [
              "4279"
            ]
          },
          "metadata": {
            "tags": []
          },
          "execution_count": 88
        }
      ]
    },
    {
      "cell_type": "markdown",
      "metadata": {
        "id": "jTdqPUQSFjGx"
      },
      "source": [
        "## To Upload UU as csv"
      ]
    },
    {
      "cell_type": "code",
      "metadata": {
        "id": "UFABLjOvu9LG"
      },
      "source": [
        "# Map\n",
        "M = UU.map(lambda x: (x[0],x[1]))"
      ],
      "execution_count": null,
      "outputs": []
    },
    {
      "cell_type": "code",
      "metadata": {
        "colab": {
          "base_uri": "https://localhost:8080/"
        },
        "id": "T_8n1bDvx7Lz",
        "outputId": "fdb17340-8d23-4a8d-c9c3-129adccd1adb"
      },
      "source": [
        "M.take(5)"
      ],
      "execution_count": null,
      "outputs": [
        {
          "output_type": "execute_result",
          "data": {
            "text/plain": [
              "[('(', \"'\"), ('(', \"'\"), ('(', \"'\"), ('(', \"'\"), ('(', \"'\")]"
            ]
          },
          "metadata": {
            "tags": []
          },
          "execution_count": 90
        }
      ]
    },
    {
      "cell_type": "code",
      "metadata": {
        "id": "jo9Ulfy6u9I4"
      },
      "source": [
        "#   Reduce\n",
        "R = UU.reduceByKey(lambda x,y: x+y)"
      ],
      "execution_count": null,
      "outputs": []
    },
    {
      "cell_type": "code",
      "metadata": {
        "colab": {
          "base_uri": "https://localhost:8080/"
        },
        "id": "wcjUaGHNu9FV",
        "outputId": "eee09950-a7f6-4bd5-8c85-b2fd6bdfc8d1"
      },
      "source": [
        "R"
      ],
      "execution_count": null,
      "outputs": [
        {
          "output_type": "execute_result",
          "data": {
            "text/plain": [
              "PythonRDD[311] at RDD at PythonRDD.scala:53"
            ]
          },
          "metadata": {
            "tags": []
          },
          "execution_count": 92
        }
      ]
    },
    {
      "cell_type": "code",
      "metadata": {
        "id": "bzdd3Bu8u9DS"
      },
      "source": [
        ""
      ],
      "execution_count": null,
      "outputs": []
    },
    {
      "cell_type": "code",
      "metadata": {
        "id": "EIhNmKP9u9AP"
      },
      "source": [
        ""
      ],
      "execution_count": null,
      "outputs": []
    },
    {
      "cell_type": "code",
      "metadata": {
        "id": "CCKgai0Lu89w",
        "colab": {
          "base_uri": "https://localhost:8080/",
          "height": 1000
        },
        "outputId": "1cc7ec80-8f7a-4886-9131-84d42856fa25"
      },
      "source": [
        "Columns = [\"context\",\"from\",\"to\",\"weight\"]\n",
        "df=R.toDF()\n",
        "df.printSchema()"
      ],
      "execution_count": null,
      "outputs": [
        {
          "output_type": "error",
          "ename": "Py4JJavaError",
          "evalue": "ignored",
          "traceback": [
            "\u001b[0;31m---------------------------------------------------------------------------\u001b[0m",
            "\u001b[0;31mPy4JJavaError\u001b[0m                             Traceback (most recent call last)",
            "\u001b[0;32m<ipython-input-93-4c06a785a5fb>\u001b[0m in \u001b[0;36m<module>\u001b[0;34m()\u001b[0m\n\u001b[1;32m      1\u001b[0m \u001b[0mColumns\u001b[0m \u001b[0;34m=\u001b[0m \u001b[0;34m[\u001b[0m\u001b[0;34m\"context\"\u001b[0m\u001b[0;34m,\u001b[0m\u001b[0;34m\"from\"\u001b[0m\u001b[0;34m,\u001b[0m\u001b[0;34m\"to\"\u001b[0m\u001b[0;34m,\u001b[0m\u001b[0;34m\"weight\"\u001b[0m\u001b[0;34m]\u001b[0m\u001b[0;34m\u001b[0m\u001b[0;34m\u001b[0m\u001b[0m\n\u001b[0;32m----> 2\u001b[0;31m \u001b[0mdf\u001b[0m\u001b[0;34m=\u001b[0m\u001b[0mR\u001b[0m\u001b[0;34m.\u001b[0m\u001b[0mtoDF\u001b[0m\u001b[0;34m(\u001b[0m\u001b[0;34m)\u001b[0m\u001b[0;34m\u001b[0m\u001b[0;34m\u001b[0m\u001b[0m\n\u001b[0m\u001b[1;32m      3\u001b[0m \u001b[0mdf\u001b[0m\u001b[0;34m.\u001b[0m\u001b[0mprintSchema\u001b[0m\u001b[0;34m(\u001b[0m\u001b[0;34m)\u001b[0m\u001b[0;34m\u001b[0m\u001b[0;34m\u001b[0m\u001b[0m\n",
            "\u001b[0;32m/content/spark-3.0.2-bin-hadoop3.2/python/pyspark/sql/session.py\u001b[0m in \u001b[0;36mtoDF\u001b[0;34m(self, schema, sampleRatio)\u001b[0m\n\u001b[1;32m     59\u001b[0m         \u001b[0;34m[\u001b[0m\u001b[0mRow\u001b[0m\u001b[0;34m(\u001b[0m\u001b[0mname\u001b[0m\u001b[0;34m=\u001b[0m\u001b[0;34mu'Alice'\u001b[0m\u001b[0;34m,\u001b[0m \u001b[0mage\u001b[0m\u001b[0;34m=\u001b[0m\u001b[0;36m1\u001b[0m\u001b[0;34m)\u001b[0m\u001b[0;34m]\u001b[0m\u001b[0;34m\u001b[0m\u001b[0;34m\u001b[0m\u001b[0m\n\u001b[1;32m     60\u001b[0m         \"\"\"\n\u001b[0;32m---> 61\u001b[0;31m         \u001b[0;32mreturn\u001b[0m \u001b[0msparkSession\u001b[0m\u001b[0;34m.\u001b[0m\u001b[0mcreateDataFrame\u001b[0m\u001b[0;34m(\u001b[0m\u001b[0mself\u001b[0m\u001b[0;34m,\u001b[0m \u001b[0mschema\u001b[0m\u001b[0;34m,\u001b[0m \u001b[0msampleRatio\u001b[0m\u001b[0;34m)\u001b[0m\u001b[0;34m\u001b[0m\u001b[0;34m\u001b[0m\u001b[0m\n\u001b[0m\u001b[1;32m     62\u001b[0m \u001b[0;34m\u001b[0m\u001b[0m\n\u001b[1;32m     63\u001b[0m     \u001b[0mRDD\u001b[0m\u001b[0;34m.\u001b[0m\u001b[0mtoDF\u001b[0m \u001b[0;34m=\u001b[0m \u001b[0mtoDF\u001b[0m\u001b[0;34m\u001b[0m\u001b[0;34m\u001b[0m\u001b[0m\n",
            "\u001b[0;32m/content/spark-3.0.2-bin-hadoop3.2/python/pyspark/sql/session.py\u001b[0m in \u001b[0;36mcreateDataFrame\u001b[0;34m(self, data, schema, samplingRatio, verifySchema)\u001b[0m\n\u001b[1;32m    603\u001b[0m             return super(SparkSession, self).createDataFrame(\n\u001b[1;32m    604\u001b[0m                 data, schema, samplingRatio, verifySchema)\n\u001b[0;32m--> 605\u001b[0;31m         \u001b[0;32mreturn\u001b[0m \u001b[0mself\u001b[0m\u001b[0;34m.\u001b[0m\u001b[0m_create_dataframe\u001b[0m\u001b[0;34m(\u001b[0m\u001b[0mdata\u001b[0m\u001b[0;34m,\u001b[0m \u001b[0mschema\u001b[0m\u001b[0;34m,\u001b[0m \u001b[0msamplingRatio\u001b[0m\u001b[0;34m,\u001b[0m \u001b[0mverifySchema\u001b[0m\u001b[0;34m)\u001b[0m\u001b[0;34m\u001b[0m\u001b[0;34m\u001b[0m\u001b[0m\n\u001b[0m\u001b[1;32m    606\u001b[0m \u001b[0;34m\u001b[0m\u001b[0m\n\u001b[1;32m    607\u001b[0m     \u001b[0;32mdef\u001b[0m \u001b[0m_create_dataframe\u001b[0m\u001b[0;34m(\u001b[0m\u001b[0mself\u001b[0m\u001b[0;34m,\u001b[0m \u001b[0mdata\u001b[0m\u001b[0;34m,\u001b[0m \u001b[0mschema\u001b[0m\u001b[0;34m,\u001b[0m \u001b[0msamplingRatio\u001b[0m\u001b[0;34m,\u001b[0m \u001b[0mverifySchema\u001b[0m\u001b[0;34m)\u001b[0m\u001b[0;34m:\u001b[0m\u001b[0;34m\u001b[0m\u001b[0;34m\u001b[0m\u001b[0m\n",
            "\u001b[0;32m/content/spark-3.0.2-bin-hadoop3.2/python/pyspark/sql/session.py\u001b[0m in \u001b[0;36m_create_dataframe\u001b[0;34m(self, data, schema, samplingRatio, verifySchema)\u001b[0m\n\u001b[1;32m    626\u001b[0m \u001b[0;34m\u001b[0m\u001b[0m\n\u001b[1;32m    627\u001b[0m         \u001b[0;32mif\u001b[0m \u001b[0misinstance\u001b[0m\u001b[0;34m(\u001b[0m\u001b[0mdata\u001b[0m\u001b[0;34m,\u001b[0m \u001b[0mRDD\u001b[0m\u001b[0;34m)\u001b[0m\u001b[0;34m:\u001b[0m\u001b[0;34m\u001b[0m\u001b[0;34m\u001b[0m\u001b[0m\n\u001b[0;32m--> 628\u001b[0;31m             \u001b[0mrdd\u001b[0m\u001b[0;34m,\u001b[0m \u001b[0mschema\u001b[0m \u001b[0;34m=\u001b[0m \u001b[0mself\u001b[0m\u001b[0;34m.\u001b[0m\u001b[0m_createFromRDD\u001b[0m\u001b[0;34m(\u001b[0m\u001b[0mdata\u001b[0m\u001b[0;34m.\u001b[0m\u001b[0mmap\u001b[0m\u001b[0;34m(\u001b[0m\u001b[0mprepare\u001b[0m\u001b[0;34m)\u001b[0m\u001b[0;34m,\u001b[0m \u001b[0mschema\u001b[0m\u001b[0;34m,\u001b[0m \u001b[0msamplingRatio\u001b[0m\u001b[0;34m)\u001b[0m\u001b[0;34m\u001b[0m\u001b[0;34m\u001b[0m\u001b[0m\n\u001b[0m\u001b[1;32m    629\u001b[0m         \u001b[0;32melse\u001b[0m\u001b[0;34m:\u001b[0m\u001b[0;34m\u001b[0m\u001b[0;34m\u001b[0m\u001b[0m\n\u001b[1;32m    630\u001b[0m             \u001b[0mrdd\u001b[0m\u001b[0;34m,\u001b[0m \u001b[0mschema\u001b[0m \u001b[0;34m=\u001b[0m \u001b[0mself\u001b[0m\u001b[0;34m.\u001b[0m\u001b[0m_createFromLocal\u001b[0m\u001b[0;34m(\u001b[0m\u001b[0mmap\u001b[0m\u001b[0;34m(\u001b[0m\u001b[0mprepare\u001b[0m\u001b[0;34m,\u001b[0m \u001b[0mdata\u001b[0m\u001b[0;34m)\u001b[0m\u001b[0;34m,\u001b[0m \u001b[0mschema\u001b[0m\u001b[0;34m)\u001b[0m\u001b[0;34m\u001b[0m\u001b[0;34m\u001b[0m\u001b[0m\n",
            "\u001b[0;32m/content/spark-3.0.2-bin-hadoop3.2/python/pyspark/sql/session.py\u001b[0m in \u001b[0;36m_createFromRDD\u001b[0;34m(self, rdd, schema, samplingRatio)\u001b[0m\n\u001b[1;32m    423\u001b[0m         \"\"\"\n\u001b[1;32m    424\u001b[0m         \u001b[0;32mif\u001b[0m \u001b[0mschema\u001b[0m \u001b[0;32mis\u001b[0m \u001b[0;32mNone\u001b[0m \u001b[0;32mor\u001b[0m \u001b[0misinstance\u001b[0m\u001b[0;34m(\u001b[0m\u001b[0mschema\u001b[0m\u001b[0;34m,\u001b[0m \u001b[0;34m(\u001b[0m\u001b[0mlist\u001b[0m\u001b[0;34m,\u001b[0m \u001b[0mtuple\u001b[0m\u001b[0;34m)\u001b[0m\u001b[0;34m)\u001b[0m\u001b[0;34m:\u001b[0m\u001b[0;34m\u001b[0m\u001b[0;34m\u001b[0m\u001b[0m\n\u001b[0;32m--> 425\u001b[0;31m             \u001b[0mstruct\u001b[0m \u001b[0;34m=\u001b[0m \u001b[0mself\u001b[0m\u001b[0;34m.\u001b[0m\u001b[0m_inferSchema\u001b[0m\u001b[0;34m(\u001b[0m\u001b[0mrdd\u001b[0m\u001b[0;34m,\u001b[0m \u001b[0msamplingRatio\u001b[0m\u001b[0;34m,\u001b[0m \u001b[0mnames\u001b[0m\u001b[0;34m=\u001b[0m\u001b[0mschema\u001b[0m\u001b[0;34m)\u001b[0m\u001b[0;34m\u001b[0m\u001b[0;34m\u001b[0m\u001b[0m\n\u001b[0m\u001b[1;32m    426\u001b[0m             \u001b[0mconverter\u001b[0m \u001b[0;34m=\u001b[0m \u001b[0m_create_converter\u001b[0m\u001b[0;34m(\u001b[0m\u001b[0mstruct\u001b[0m\u001b[0;34m)\u001b[0m\u001b[0;34m\u001b[0m\u001b[0;34m\u001b[0m\u001b[0m\n\u001b[1;32m    427\u001b[0m             \u001b[0mrdd\u001b[0m \u001b[0;34m=\u001b[0m \u001b[0mrdd\u001b[0m\u001b[0;34m.\u001b[0m\u001b[0mmap\u001b[0m\u001b[0;34m(\u001b[0m\u001b[0mconverter\u001b[0m\u001b[0;34m)\u001b[0m\u001b[0;34m\u001b[0m\u001b[0;34m\u001b[0m\u001b[0m\n",
            "\u001b[0;32m/content/spark-3.0.2-bin-hadoop3.2/python/pyspark/sql/session.py\u001b[0m in \u001b[0;36m_inferSchema\u001b[0;34m(self, rdd, samplingRatio, names)\u001b[0m\n\u001b[1;32m    394\u001b[0m         \u001b[0;34m:\u001b[0m\u001b[0;32mreturn\u001b[0m\u001b[0;34m:\u001b[0m \u001b[0;34m:\u001b[0m\u001b[0;32mclass\u001b[0m\u001b[0;34m:\u001b[0m\u001b[0;31m`\u001b[0m\u001b[0mpyspark\u001b[0m\u001b[0;34m.\u001b[0m\u001b[0msql\u001b[0m\u001b[0;34m.\u001b[0m\u001b[0mtypes\u001b[0m\u001b[0;34m.\u001b[0m\u001b[0mStructType\u001b[0m\u001b[0;31m`\u001b[0m\u001b[0;34m\u001b[0m\u001b[0;34m\u001b[0m\u001b[0m\n\u001b[1;32m    395\u001b[0m         \"\"\"\n\u001b[0;32m--> 396\u001b[0;31m         \u001b[0mfirst\u001b[0m \u001b[0;34m=\u001b[0m \u001b[0mrdd\u001b[0m\u001b[0;34m.\u001b[0m\u001b[0mfirst\u001b[0m\u001b[0;34m(\u001b[0m\u001b[0;34m)\u001b[0m\u001b[0;34m\u001b[0m\u001b[0;34m\u001b[0m\u001b[0m\n\u001b[0m\u001b[1;32m    397\u001b[0m         \u001b[0;32mif\u001b[0m \u001b[0;32mnot\u001b[0m \u001b[0mfirst\u001b[0m\u001b[0;34m:\u001b[0m\u001b[0;34m\u001b[0m\u001b[0;34m\u001b[0m\u001b[0m\n\u001b[1;32m    398\u001b[0m             raise ValueError(\"The first row in RDD is empty, \"\n",
            "\u001b[0;32m/content/spark-3.0.2-bin-hadoop3.2/python/pyspark/rdd.py\u001b[0m in \u001b[0;36mfirst\u001b[0;34m(self)\u001b[0m\n\u001b[1;32m   1462\u001b[0m         \u001b[0mValueError\u001b[0m\u001b[0;34m:\u001b[0m \u001b[0mRDD\u001b[0m \u001b[0;32mis\u001b[0m \u001b[0mempty\u001b[0m\u001b[0;34m\u001b[0m\u001b[0;34m\u001b[0m\u001b[0m\n\u001b[1;32m   1463\u001b[0m         \"\"\"\n\u001b[0;32m-> 1464\u001b[0;31m         \u001b[0mrs\u001b[0m \u001b[0;34m=\u001b[0m \u001b[0mself\u001b[0m\u001b[0;34m.\u001b[0m\u001b[0mtake\u001b[0m\u001b[0;34m(\u001b[0m\u001b[0;36m1\u001b[0m\u001b[0;34m)\u001b[0m\u001b[0;34m\u001b[0m\u001b[0;34m\u001b[0m\u001b[0m\n\u001b[0m\u001b[1;32m   1465\u001b[0m         \u001b[0;32mif\u001b[0m \u001b[0mrs\u001b[0m\u001b[0;34m:\u001b[0m\u001b[0;34m\u001b[0m\u001b[0;34m\u001b[0m\u001b[0m\n\u001b[1;32m   1466\u001b[0m             \u001b[0;32mreturn\u001b[0m \u001b[0mrs\u001b[0m\u001b[0;34m[\u001b[0m\u001b[0;36m0\u001b[0m\u001b[0;34m]\u001b[0m\u001b[0;34m\u001b[0m\u001b[0;34m\u001b[0m\u001b[0m\n",
            "\u001b[0;32m/content/spark-3.0.2-bin-hadoop3.2/python/pyspark/rdd.py\u001b[0m in \u001b[0;36mtake\u001b[0;34m(self, num)\u001b[0m\n\u001b[1;32m   1444\u001b[0m \u001b[0;34m\u001b[0m\u001b[0m\n\u001b[1;32m   1445\u001b[0m             \u001b[0mp\u001b[0m \u001b[0;34m=\u001b[0m \u001b[0mrange\u001b[0m\u001b[0;34m(\u001b[0m\u001b[0mpartsScanned\u001b[0m\u001b[0;34m,\u001b[0m \u001b[0mmin\u001b[0m\u001b[0;34m(\u001b[0m\u001b[0mpartsScanned\u001b[0m \u001b[0;34m+\u001b[0m \u001b[0mnumPartsToTry\u001b[0m\u001b[0;34m,\u001b[0m \u001b[0mtotalParts\u001b[0m\u001b[0;34m)\u001b[0m\u001b[0;34m)\u001b[0m\u001b[0;34m\u001b[0m\u001b[0;34m\u001b[0m\u001b[0m\n\u001b[0;32m-> 1446\u001b[0;31m             \u001b[0mres\u001b[0m \u001b[0;34m=\u001b[0m \u001b[0mself\u001b[0m\u001b[0;34m.\u001b[0m\u001b[0mcontext\u001b[0m\u001b[0;34m.\u001b[0m\u001b[0mrunJob\u001b[0m\u001b[0;34m(\u001b[0m\u001b[0mself\u001b[0m\u001b[0;34m,\u001b[0m \u001b[0mtakeUpToNumLeft\u001b[0m\u001b[0;34m,\u001b[0m \u001b[0mp\u001b[0m\u001b[0;34m)\u001b[0m\u001b[0;34m\u001b[0m\u001b[0;34m\u001b[0m\u001b[0m\n\u001b[0m\u001b[1;32m   1447\u001b[0m \u001b[0;34m\u001b[0m\u001b[0m\n\u001b[1;32m   1448\u001b[0m             \u001b[0mitems\u001b[0m \u001b[0;34m+=\u001b[0m \u001b[0mres\u001b[0m\u001b[0;34m\u001b[0m\u001b[0;34m\u001b[0m\u001b[0m\n",
            "\u001b[0;32m/content/spark-3.0.2-bin-hadoop3.2/python/pyspark/context.py\u001b[0m in \u001b[0;36mrunJob\u001b[0;34m(self, rdd, partitionFunc, partitions, allowLocal)\u001b[0m\n\u001b[1;32m   1118\u001b[0m         \u001b[0;31m# SparkContext#runJob.\u001b[0m\u001b[0;34m\u001b[0m\u001b[0;34m\u001b[0m\u001b[0;34m\u001b[0m\u001b[0m\n\u001b[1;32m   1119\u001b[0m         \u001b[0mmappedRDD\u001b[0m \u001b[0;34m=\u001b[0m \u001b[0mrdd\u001b[0m\u001b[0;34m.\u001b[0m\u001b[0mmapPartitions\u001b[0m\u001b[0;34m(\u001b[0m\u001b[0mpartitionFunc\u001b[0m\u001b[0;34m)\u001b[0m\u001b[0;34m\u001b[0m\u001b[0;34m\u001b[0m\u001b[0m\n\u001b[0;32m-> 1120\u001b[0;31m         \u001b[0msock_info\u001b[0m \u001b[0;34m=\u001b[0m \u001b[0mself\u001b[0m\u001b[0;34m.\u001b[0m\u001b[0m_jvm\u001b[0m\u001b[0;34m.\u001b[0m\u001b[0mPythonRDD\u001b[0m\u001b[0;34m.\u001b[0m\u001b[0mrunJob\u001b[0m\u001b[0;34m(\u001b[0m\u001b[0mself\u001b[0m\u001b[0;34m.\u001b[0m\u001b[0m_jsc\u001b[0m\u001b[0;34m.\u001b[0m\u001b[0msc\u001b[0m\u001b[0;34m(\u001b[0m\u001b[0;34m)\u001b[0m\u001b[0;34m,\u001b[0m \u001b[0mmappedRDD\u001b[0m\u001b[0;34m.\u001b[0m\u001b[0m_jrdd\u001b[0m\u001b[0;34m,\u001b[0m \u001b[0mpartitions\u001b[0m\u001b[0;34m)\u001b[0m\u001b[0;34m\u001b[0m\u001b[0;34m\u001b[0m\u001b[0m\n\u001b[0m\u001b[1;32m   1121\u001b[0m         \u001b[0;32mreturn\u001b[0m \u001b[0mlist\u001b[0m\u001b[0;34m(\u001b[0m\u001b[0m_load_from_socket\u001b[0m\u001b[0;34m(\u001b[0m\u001b[0msock_info\u001b[0m\u001b[0;34m,\u001b[0m \u001b[0mmappedRDD\u001b[0m\u001b[0;34m.\u001b[0m\u001b[0m_jrdd_deserializer\u001b[0m\u001b[0;34m)\u001b[0m\u001b[0;34m)\u001b[0m\u001b[0;34m\u001b[0m\u001b[0;34m\u001b[0m\u001b[0m\n\u001b[1;32m   1122\u001b[0m \u001b[0;34m\u001b[0m\u001b[0m\n",
            "\u001b[0;32m/content/spark-3.0.2-bin-hadoop3.2/python/lib/py4j-0.10.9-src.zip/py4j/java_gateway.py\u001b[0m in \u001b[0;36m__call__\u001b[0;34m(self, *args)\u001b[0m\n\u001b[1;32m   1303\u001b[0m         \u001b[0manswer\u001b[0m \u001b[0;34m=\u001b[0m \u001b[0mself\u001b[0m\u001b[0;34m.\u001b[0m\u001b[0mgateway_client\u001b[0m\u001b[0;34m.\u001b[0m\u001b[0msend_command\u001b[0m\u001b[0;34m(\u001b[0m\u001b[0mcommand\u001b[0m\u001b[0;34m)\u001b[0m\u001b[0;34m\u001b[0m\u001b[0;34m\u001b[0m\u001b[0m\n\u001b[1;32m   1304\u001b[0m         return_value = get_return_value(\n\u001b[0;32m-> 1305\u001b[0;31m             answer, self.gateway_client, self.target_id, self.name)\n\u001b[0m\u001b[1;32m   1306\u001b[0m \u001b[0;34m\u001b[0m\u001b[0m\n\u001b[1;32m   1307\u001b[0m         \u001b[0;32mfor\u001b[0m \u001b[0mtemp_arg\u001b[0m \u001b[0;32min\u001b[0m \u001b[0mtemp_args\u001b[0m\u001b[0;34m:\u001b[0m\u001b[0;34m\u001b[0m\u001b[0;34m\u001b[0m\u001b[0m\n",
            "\u001b[0;32m/content/spark-3.0.2-bin-hadoop3.2/python/pyspark/sql/utils.py\u001b[0m in \u001b[0;36mdeco\u001b[0;34m(*a, **kw)\u001b[0m\n\u001b[1;32m    126\u001b[0m     \u001b[0;32mdef\u001b[0m \u001b[0mdeco\u001b[0m\u001b[0;34m(\u001b[0m\u001b[0;34m*\u001b[0m\u001b[0ma\u001b[0m\u001b[0;34m,\u001b[0m \u001b[0;34m**\u001b[0m\u001b[0mkw\u001b[0m\u001b[0;34m)\u001b[0m\u001b[0;34m:\u001b[0m\u001b[0;34m\u001b[0m\u001b[0;34m\u001b[0m\u001b[0m\n\u001b[1;32m    127\u001b[0m         \u001b[0;32mtry\u001b[0m\u001b[0;34m:\u001b[0m\u001b[0;34m\u001b[0m\u001b[0;34m\u001b[0m\u001b[0m\n\u001b[0;32m--> 128\u001b[0;31m             \u001b[0;32mreturn\u001b[0m \u001b[0mf\u001b[0m\u001b[0;34m(\u001b[0m\u001b[0;34m*\u001b[0m\u001b[0ma\u001b[0m\u001b[0;34m,\u001b[0m \u001b[0;34m**\u001b[0m\u001b[0mkw\u001b[0m\u001b[0;34m)\u001b[0m\u001b[0;34m\u001b[0m\u001b[0;34m\u001b[0m\u001b[0m\n\u001b[0m\u001b[1;32m    129\u001b[0m         \u001b[0;32mexcept\u001b[0m \u001b[0mpy4j\u001b[0m\u001b[0;34m.\u001b[0m\u001b[0mprotocol\u001b[0m\u001b[0;34m.\u001b[0m\u001b[0mPy4JJavaError\u001b[0m \u001b[0;32mas\u001b[0m \u001b[0me\u001b[0m\u001b[0;34m:\u001b[0m\u001b[0;34m\u001b[0m\u001b[0;34m\u001b[0m\u001b[0m\n\u001b[1;32m    130\u001b[0m             \u001b[0mconverted\u001b[0m \u001b[0;34m=\u001b[0m \u001b[0mconvert_exception\u001b[0m\u001b[0;34m(\u001b[0m\u001b[0me\u001b[0m\u001b[0;34m.\u001b[0m\u001b[0mjava_exception\u001b[0m\u001b[0;34m)\u001b[0m\u001b[0;34m\u001b[0m\u001b[0;34m\u001b[0m\u001b[0m\n",
            "\u001b[0;32m/content/spark-3.0.2-bin-hadoop3.2/python/lib/py4j-0.10.9-src.zip/py4j/protocol.py\u001b[0m in \u001b[0;36mget_return_value\u001b[0;34m(answer, gateway_client, target_id, name)\u001b[0m\n\u001b[1;32m    326\u001b[0m                 raise Py4JJavaError(\n\u001b[1;32m    327\u001b[0m                     \u001b[0;34m\"An error occurred while calling {0}{1}{2}.\\n\"\u001b[0m\u001b[0;34m.\u001b[0m\u001b[0;34m\u001b[0m\u001b[0;34m\u001b[0m\u001b[0m\n\u001b[0;32m--> 328\u001b[0;31m                     format(target_id, \".\", name), value)\n\u001b[0m\u001b[1;32m    329\u001b[0m             \u001b[0;32melse\u001b[0m\u001b[0;34m:\u001b[0m\u001b[0;34m\u001b[0m\u001b[0;34m\u001b[0m\u001b[0m\n\u001b[1;32m    330\u001b[0m                 raise Py4JError(\n",
            "\u001b[0;31mPy4JJavaError\u001b[0m: An error occurred while calling z:org.apache.spark.api.python.PythonRDD.runJob.\n: org.apache.spark.SparkException: Job aborted due to stage failure: Task 1 in stage 367.0 failed 1 times, most recent failure: Lost task 1.0 in stage 367.0 (TID 569, a2f06e9581e5, executor driver): org.apache.spark.api.python.PythonException: Traceback (most recent call last):\n  File \"/content/spark-3.0.2-bin-hadoop3.2/python/lib/pyspark.zip/pyspark/worker.py\", line 605, in main\n    process()\n  File \"/content/spark-3.0.2-bin-hadoop3.2/python/lib/pyspark.zip/pyspark/worker.py\", line 595, in process\n    out_iter = func(split_index, iterator)\n  File \"/content/spark-3.0.2-bin-hadoop3.2/python/pyspark/rdd.py\", line 2596, in pipeline_func\n    return func(split, prev_func(split, iterator))\n  File \"/content/spark-3.0.2-bin-hadoop3.2/python/pyspark/rdd.py\", line 425, in func\n    return f(iterator)\n  File \"/content/spark-3.0.2-bin-hadoop3.2/python/pyspark/rdd.py\", line 1946, in combineLocally\n    merger.mergeValues(iterator)\n  File \"/content/spark-3.0.2-bin-hadoop3.2/python/lib/pyspark.zip/pyspark/shuffle.py\", line 238, in mergeValues\n    for k, v in iterator:\nValueError: too many values to unpack (expected 2)\n\n\tat org.apache.spark.api.python.BasePythonRunner$ReaderIterator.handlePythonException(PythonRunner.scala:503)\n\tat org.apache.spark.api.python.PythonRunner$$anon$3.read(PythonRunner.scala:638)\n\tat org.apache.spark.api.python.PythonRunner$$anon$3.read(PythonRunner.scala:621)\n\tat org.apache.spark.api.python.BasePythonRunner$ReaderIterator.hasNext(PythonRunner.scala:456)\n\tat org.apache.spark.InterruptibleIterator.hasNext(InterruptibleIterator.scala:37)\n\tat scala.collection.Iterator$GroupedIterator.fill(Iterator.scala:1209)\n\tat scala.collection.Iterator$GroupedIterator.hasNext(Iterator.scala:1215)\n\tat scala.collection.Iterator$$anon$10.hasNext(Iterator.scala:458)\n\tat org.apache.spark.shuffle.sort.BypassMergeSortShuffleWriter.write(BypassMergeSortShuffleWriter.java:132)\n\tat org.apache.spark.shuffle.ShuffleWriteProcessor.write(ShuffleWriteProcessor.scala:59)\n\tat org.apache.spark.scheduler.ShuffleMapTask.runTask(ShuffleMapTask.scala:99)\n\tat org.apache.spark.scheduler.ShuffleMapTask.runTask(ShuffleMapTask.scala:52)\n\tat org.apache.spark.scheduler.Task.run(Task.scala:127)\n\tat org.apache.spark.executor.Executor$TaskRunner.$anonfun$run$3(Executor.scala:462)\n\tat org.apache.spark.util.Utils$.tryWithSafeFinally(Utils.scala:1377)\n\tat org.apache.spark.executor.Executor$TaskRunner.run(Executor.scala:465)\n\tat java.util.concurrent.ThreadPoolExecutor.runWorker(ThreadPoolExecutor.java:1149)\n\tat java.util.concurrent.ThreadPoolExecutor$Worker.run(ThreadPoolExecutor.java:624)\n\tat java.lang.Thread.run(Thread.java:748)\n\nDriver stacktrace:\n\tat org.apache.spark.scheduler.DAGScheduler.failJobAndIndependentStages(DAGScheduler.scala:2059)\n\tat org.apache.spark.scheduler.DAGScheduler.$anonfun$abortStage$2(DAGScheduler.scala:2008)\n\tat org.apache.spark.scheduler.DAGScheduler.$anonfun$abortStage$2$adapted(DAGScheduler.scala:2007)\n\tat scala.collection.mutable.ResizableArray.foreach(ResizableArray.scala:62)\n\tat scala.collection.mutable.ResizableArray.foreach$(ResizableArray.scala:55)\n\tat scala.collection.mutable.ArrayBuffer.foreach(ArrayBuffer.scala:49)\n\tat org.apache.spark.scheduler.DAGScheduler.abortStage(DAGScheduler.scala:2007)\n\tat org.apache.spark.scheduler.DAGScheduler.$anonfun$handleTaskSetFailed$1(DAGScheduler.scala:973)\n\tat org.apache.spark.scheduler.DAGScheduler.$anonfun$handleTaskSetFailed$1$adapted(DAGScheduler.scala:973)\n\tat scala.Option.foreach(Option.scala:407)\n\tat org.apache.spark.scheduler.DAGScheduler.handleTaskSetFailed(DAGScheduler.scala:973)\n\tat org.apache.spark.scheduler.DAGSchedulerEventProcessLoop.doOnReceive(DAGScheduler.scala:2239)\n\tat org.apache.spark.scheduler.DAGSchedulerEventProcessLoop.onReceive(DAGScheduler.scala:2188)\n\tat org.apache.spark.scheduler.DAGSchedulerEventProcessLoop.onReceive(DAGScheduler.scala:2177)\n\tat org.apache.spark.util.EventLoop$$anon$1.run(EventLoop.scala:49)\n\tat org.apache.spark.scheduler.DAGScheduler.runJob(DAGScheduler.scala:775)\n\tat org.apache.spark.SparkContext.runJob(SparkContext.scala:2114)\n\tat org.apache.spark.SparkContext.runJob(SparkContext.scala:2135)\n\tat org.apache.spark.SparkContext.runJob(SparkContext.scala:2154)\n\tat org.apache.spark.api.python.PythonRDD$.runJob(PythonRDD.scala:154)\n\tat org.apache.spark.api.python.PythonRDD.runJob(PythonRDD.scala)\n\tat sun.reflect.GeneratedMethodAccessor58.invoke(Unknown Source)\n\tat sun.reflect.DelegatingMethodAccessorImpl.invoke(DelegatingMethodAccessorImpl.java:43)\n\tat java.lang.reflect.Method.invoke(Method.java:498)\n\tat py4j.reflection.MethodInvoker.invoke(MethodInvoker.java:244)\n\tat py4j.reflection.ReflectionEngine.invoke(ReflectionEngine.java:357)\n\tat py4j.Gateway.invoke(Gateway.java:282)\n\tat py4j.commands.AbstractCommand.invokeMethod(AbstractCommand.java:132)\n\tat py4j.commands.CallCommand.execute(CallCommand.java:79)\n\tat py4j.GatewayConnection.run(GatewayConnection.java:238)\n\tat java.lang.Thread.run(Thread.java:748)\nCaused by: org.apache.spark.api.python.PythonException: Traceback (most recent call last):\n  File \"/content/spark-3.0.2-bin-hadoop3.2/python/lib/pyspark.zip/pyspark/worker.py\", line 605, in main\n    process()\n  File \"/content/spark-3.0.2-bin-hadoop3.2/python/lib/pyspark.zip/pyspark/worker.py\", line 595, in process\n    out_iter = func(split_index, iterator)\n  File \"/content/spark-3.0.2-bin-hadoop3.2/python/pyspark/rdd.py\", line 2596, in pipeline_func\n    return func(split, prev_func(split, iterator))\n  File \"/content/spark-3.0.2-bin-hadoop3.2/python/pyspark/rdd.py\", line 425, in func\n    return f(iterator)\n  File \"/content/spark-3.0.2-bin-hadoop3.2/python/pyspark/rdd.py\", line 1946, in combineLocally\n    merger.mergeValues(iterator)\n  File \"/content/spark-3.0.2-bin-hadoop3.2/python/lib/pyspark.zip/pyspark/shuffle.py\", line 238, in mergeValues\n    for k, v in iterator:\nValueError: too many values to unpack (expected 2)\n\n\tat org.apache.spark.api.python.BasePythonRunner$ReaderIterator.handlePythonException(PythonRunner.scala:503)\n\tat org.apache.spark.api.python.PythonRunner$$anon$3.read(PythonRunner.scala:638)\n\tat org.apache.spark.api.python.PythonRunner$$anon$3.read(PythonRunner.scala:621)\n\tat org.apache.spark.api.python.BasePythonRunner$ReaderIterator.hasNext(PythonRunner.scala:456)\n\tat org.apache.spark.InterruptibleIterator.hasNext(InterruptibleIterator.scala:37)\n\tat scala.collection.Iterator$GroupedIterator.fill(Iterator.scala:1209)\n\tat scala.collection.Iterator$GroupedIterator.hasNext(Iterator.scala:1215)\n\tat scala.collection.Iterator$$anon$10.hasNext(Iterator.scala:458)\n\tat org.apache.spark.shuffle.sort.BypassMergeSortShuffleWriter.write(BypassMergeSortShuffleWriter.java:132)\n\tat org.apache.spark.shuffle.ShuffleWriteProcessor.write(ShuffleWriteProcessor.scala:59)\n\tat org.apache.spark.scheduler.ShuffleMapTask.runTask(ShuffleMapTask.scala:99)\n\tat org.apache.spark.scheduler.ShuffleMapTask.runTask(ShuffleMapTask.scala:52)\n\tat org.apache.spark.scheduler.Task.run(Task.scala:127)\n\tat org.apache.spark.executor.Executor$TaskRunner.$anonfun$run$3(Executor.scala:462)\n\tat org.apache.spark.util.Utils$.tryWithSafeFinally(Utils.scala:1377)\n\tat org.apache.spark.executor.Executor$TaskRunner.run(Executor.scala:465)\n\tat java.util.concurrent.ThreadPoolExecutor.runWorker(ThreadPoolExecutor.java:1149)\n\tat java.util.concurrent.ThreadPoolExecutor$Worker.run(ThreadPoolExecutor.java:624)\n\t... 1 more\n"
          ]
        }
      ]
    },
    {
      "cell_type": "code",
      "metadata": {
        "id": "NuWCOwRwuAAC"
      },
      "source": [
        "from pyspark.sql import Row\n",
        "tweet = (R.map(lambda x: Row( context=x[0].split(',')[0],user_name=x[0].split(',')[1],rt_user=x[0].split(',')[2],weight=x[1])).toDf())\n"
      ],
      "execution_count": null,
      "outputs": []
    },
    {
      "cell_type": "code",
      "metadata": {
        "id": "PG6mKn0Ea7G-"
      },
      "source": [
        "#   brain-awareness-week-2018"
      ],
      "execution_count": null,
      "outputs": []
    },
    {
      "cell_type": "code",
      "metadata": {
        "id": "vwj4BBVkBILi"
      },
      "source": [
        "#   brain-injury-week-2018"
      ],
      "execution_count": null,
      "outputs": []
    },
    {
      "cell_type": "code",
      "metadata": {
        "id": "FysyIre8BIKT"
      },
      "source": [
        "#   carers-week-2018"
      ],
      "execution_count": null,
      "outputs": []
    },
    {
      "cell_type": "code",
      "metadata": {
        "id": "zb9W6QMcBIGp"
      },
      "source": [
        "#   dementia-action-week-2018"
      ],
      "execution_count": null,
      "outputs": []
    },
    {
      "cell_type": "code",
      "metadata": {
        "id": "R8m2df9LBIFL"
      },
      "source": [
        "#   dry-january-2018"
      ],
      "execution_count": null,
      "outputs": []
    },
    {
      "cell_type": "code",
      "metadata": {
        "id": "CNWZg0VkBIC2"
      },
      "source": [
        "#   eating-disorder-awareness-week-2018"
      ],
      "execution_count": null,
      "outputs": []
    },
    {
      "cell_type": "code",
      "metadata": {
        "id": "ht8wOcZkBIBZ"
      },
      "source": [
        ""
      ],
      "execution_count": null,
      "outputs": []
    },
    {
      "cell_type": "code",
      "metadata": {
        "id": "1wHNTxWFBH-J"
      },
      "source": [
        ""
      ],
      "execution_count": null,
      "outputs": []
    },
    {
      "cell_type": "code",
      "metadata": {
        "id": "vMlRsBk-BH80"
      },
      "source": [
        ""
      ],
      "execution_count": null,
      "outputs": []
    },
    {
      "cell_type": "code",
      "metadata": {
        "id": "9-t6qISXBH5p"
      },
      "source": [
        ""
      ],
      "execution_count": null,
      "outputs": []
    },
    {
      "cell_type": "code",
      "metadata": {
        "id": "ITYMjxzuBH4c"
      },
      "source": [
        ""
      ],
      "execution_count": null,
      "outputs": []
    },
    {
      "cell_type": "code",
      "metadata": {
        "id": "h9NT-uaMBH1g"
      },
      "source": [
        ""
      ],
      "execution_count": null,
      "outputs": []
    },
    {
      "cell_type": "code",
      "metadata": {
        "id": "nulyeF3hBH0D"
      },
      "source": [
        ""
      ],
      "execution_count": null,
      "outputs": []
    },
    {
      "cell_type": "code",
      "metadata": {
        "id": "Kl1Tpr6AoCft"
      },
      "source": [
        "# define the schema, corresponding to a line in the csv data file.\n",
        "schema = StructType([\n",
        "                    StructField(\"index\", IntegerType(), nullable=True),\n",
        "                    StructField(\"context\", StringType(), nullable=True),\n",
        "                    StructField(\"date\", StringType(), nullable=True),\n",
        "                    StructField(\"id\", LongType(), nullable=True),\n",
        "                    StructField(\"is_media\", FloatType(), nullable=True),\n",
        "                    StructField(\"is_retweet\", FloatType(), nullable=True),\n",
        "                    StructField(\"no_likes\", FloatType(), nullable=True),\n",
        "                    StructField(\"no_retweets\", FloatType(), nullable=True),\n",
        "                    StructField(\"reply\", StringType(), nullable=True),\n",
        "                    StructField(\"text\", StringType(), nullable=True),\n",
        "                    StructField(\"user_name\", StringType(), nullable=True),\n",
        "                    StructField(\"idx\", IntegerType(), nullable=True),\n",
        "                    StructField(\"RT_id\", LongType(), nullable=True),\n",
        "                    StructField(\"context1\", StringType(), nullable=True),\n",
        "                    StructField(\"rt_user\", StringType(), nullable=True),\n",
        "                    StructField(\"tw_id\", LongType(), nullable=True)\n",
        "                    ])"
      ],
      "execution_count": null,
      "outputs": []
    },
    {
      "cell_type": "code",
      "metadata": {
        "colab": {
          "base_uri": "https://localhost:8080/"
        },
        "id": "4Z_J1x4cm9dT",
        "outputId": "43edca13-44bf-40bc-b5f8-7123fee32107"
      },
      "source": [
        "#   Read dataset from .csv file\n",
        "\n",
        "T_R = spark.read.format('com.databricks.spark.csv').\\\n",
        "    options(header='true', \\\n",
        "    inferschema='true')\\\n",
        "    .load(\"/content/drive/MyDrive/Kaggle/fadi/T_Raa\",header=True,schema=schema)\n",
        "\n",
        "T_R.show(5)"
      ],
      "execution_count": null,
      "outputs": [
        {
          "output_type": "stream",
          "text": [
            "+-----+--------------------+-------------------+------------------+--------+----------+--------+-----------+-----+--------------------+--------------+----+------------------+--------------------+------------------+------------------+\n",
            "|index|             context|               date|                id|is_media|is_retweet|no_likes|no_retweets|reply|                text|     user_name| idx|             RT_id|            context1|           rt_user|             tw_id|\n",
            "+-----+--------------------+-------------------+------------------+--------+----------+--------+-----------+-----+--------------------+--------------+----+------------------+--------------------+------------------+------------------+\n",
            "|   21|cervical-cancer-p...|2018-01-26 17:27:37|956941708918444032|     0.0|       1.0|     0.0|        0.0| null|The program has b...|     bengnonny| 126|956859264840208384|cervical-cancer-p...|          dokilink|956941708918444032|\n",
            "|  170|cervical-cancer-p...|2018-01-26 17:28:28|956941922211368960|     0.0|       1.0|     0.0|        0.0| null|I will keep retwe...|           125|null|              null|        samyarwood89|956941922211368960|              null|\n",
            "|   46|cervical-cancer-p...|2018-01-26 17:29:16|956942127132499968|     0.0|       1.0|     0.0|        0.0| null|can be prevented ...|dawnthomas2311| 124|956814191410769920|cervical-cancer-p...|          RCObsGyn|956942127132499968|\n",
            "|   77|cervical-cancer-p...|2018-01-26 17:29:41|956942230484406273|     0.0|       1.0|     0.0|        0.0| null|Our revamped webs...|hannah_travis1| 123|956889291204059136|cervical-cancer-p...|       grace_women|956942230484406273|\n",
            "|  171|cervical-cancer-p...|2018-01-26 17:32:32|956942949161537536|     0.0|       1.0|     0.0|        0.0| null|For Prevention we...|           122|null|              null|     KingstonHospNHS|956942949161537536|              null|\n",
            "+-----+--------------------+-------------------+------------------+--------+----------+--------+-----------+-----+--------------------+--------------+----+------------------+--------------------+------------------+------------------+\n",
            "only showing top 5 rows\n",
            "\n"
          ],
          "name": "stdout"
        }
      ]
    },
    {
      "cell_type": "code",
      "metadata": {
        "id": "BvJ7I5SAoI3c",
        "colab": {
          "base_uri": "https://localhost:8080/"
        },
        "outputId": "2b159446-c059-47a5-9371-6a912849d352"
      },
      "source": [
        "T_R.printSchema()"
      ],
      "execution_count": null,
      "outputs": [
        {
          "output_type": "stream",
          "text": [
            "root\n",
            " |-- index: integer (nullable = true)\n",
            " |-- context: string (nullable = true)\n",
            " |-- date: string (nullable = true)\n",
            " |-- id: long (nullable = true)\n",
            " |-- is_media: float (nullable = true)\n",
            " |-- is_retweet: float (nullable = true)\n",
            " |-- no_likes: float (nullable = true)\n",
            " |-- no_retweets: float (nullable = true)\n",
            " |-- reply: string (nullable = true)\n",
            " |-- text: string (nullable = true)\n",
            " |-- user_name: string (nullable = true)\n",
            " |-- idx: integer (nullable = true)\n",
            " |-- RT_id: long (nullable = true)\n",
            " |-- context1: string (nullable = true)\n",
            " |-- rt_user: string (nullable = true)\n",
            " |-- tw_id: long (nullable = true)\n",
            "\n"
          ],
          "name": "stdout"
        }
      ]
    },
    {
      "cell_type": "code",
      "metadata": {
        "id": "g5JdkXmCp-PK",
        "colab": {
          "base_uri": "https://localhost:8080/"
        },
        "outputId": "b2240461-7b76-487f-df2f-b0bb6a3c301f"
      },
      "source": [
        "# run a sample selection\n",
        "T_R.select('user_name','rt_user').show(10)"
      ],
      "execution_count": null,
      "outputs": [
        {
          "output_type": "stream",
          "text": [
            "+--------------+------------------+\n",
            "|     user_name|           rt_user|\n",
            "+--------------+------------------+\n",
            "|     bengnonny|          dokilink|\n",
            "|           125|956941922211368960|\n",
            "|dawnthomas2311|          RCObsGyn|\n",
            "|hannah_travis1|       grace_women|\n",
            "|           122|956942949161537536|\n",
            "|           121|956943044502224896|\n",
            "|           120|956944321651060736|\n",
            "|      izzykacz|             Roche|\n",
            "|  julieckiefer|   UtahDepOfHealth|\n",
            "|      wustlphs|     SitemanCenter|\n",
            "+--------------+------------------+\n",
            "only showing top 10 rows\n",
            "\n"
          ],
          "name": "stdout"
        }
      ]
    },
    {
      "cell_type": "code",
      "metadata": {
        "colab": {
          "base_uri": "https://localhost:8080/"
        },
        "id": "V7Qtn86njOdS",
        "outputId": "202f30ff-2910-43bf-9eb3-26715ce7c9a2"
      },
      "source": [
        "T_R.na.drop(subset=[\"user_name\",\"rt_user\",\"tw_id\"]).select('id','user_name','rt_user','context').groupBy('user_name','rt_user').count().show(30)"
      ],
      "execution_count": null,
      "outputs": [
        {
          "output_type": "stream",
          "text": [
            "+---------------+---------------+-----+\n",
            "|      user_name|        rt_user|count|\n",
            "+---------------+---------------+-----+\n",
            "|  heatherbowes7|  SterlingJoy94|    1|\n",
            "|    mcapn_co_uk|   ACT_4_CHANGE|    1|\n",
            "|    roseobyrne3|        NPA1921|    1|\n",
            "|  mynameisandyj|     gtscollins|    1|\n",
            "|    sianmorganb|      Catrin193|    1|\n",
            "|  mynameisandyj|    YBProgramme|    1|\n",
            "|   carongregory|    EarleyTracy|    1|\n",
            "|        rc4b_ev|  JamesMelville|    1|\n",
            "|      aminulacj|           ESRC|    1|\n",
            "| uommskresearch|     CapsieNair|    1|\n",
            "|      samjc1976|VersusArthritis|    1|\n",
            "| avrildrummond1|HappyLittleHugh|    1|\n",
            "|alsassistivetec|Helping_HandsUK|    1|\n",
            "|  sucksniallers|   MrsAnneTwist|    1|\n",
            "|    copter_fstr|         lwbean|    1|\n",
            "|  lottie_newitt|        The_RHS|    1|\n",
            "| grantdiemgrant|       TrishaL8|    1|\n",
            "|         scocic|alex_staniforth|    1|\n",
            "|   nlcyouthwork|     LANDEDPeer|    1|\n",
            "|      thebecsoc|        PHBucks|    1|\n",
            "|    groganmandy|clairenealeDCHS|    1|\n",
            "|     doxeymoron|      kevinkays|    1|\n",
            "|   institutehpe| EustacedeSousa|    2|\n",
            "|    hazelskel53|  MNDeventsPlym|    1|\n",
            "|  thefutureisnd|      soundcube|    1|\n",
            "|   lydiabparker|      soundcube|    1|\n",
            "|lilorangekitten|         lwbean|    1|\n",
            "| bliadhnaichean|   kategarraway|    1|\n",
            "|   kittycormack|       PennyRed|    1|\n",
            "|       gnssfeed|     NHSEngland|    1|\n",
            "+---------------+---------------+-----+\n",
            "only showing top 30 rows\n",
            "\n"
          ],
          "name": "stdout"
        }
      ]
    },
    {
      "cell_type": "code",
      "metadata": {
        "id": "qVsPVFC1r0Mw",
        "colab": {
          "base_uri": "https://localhost:8080/"
        },
        "outputId": "82f4df07-b5fe-41bd-eec9-0c363ebd771d"
      },
      "source": [
        "U_U = T_R.na.drop(subset=[\"user_name\",\"rt_user\",\"tw_id\"]).orderBy(col('user_name').asc()).select('user_name','rt_user','context')\n",
        "U_U.show(20)"
      ],
      "execution_count": null,
      "outputs": [
        {
          "output_type": "stream",
          "text": [
            "+--------------------+------------+--------------------+\n",
            "|           user_name|     rt_user|             context|\n",
            "+--------------------+------------+--------------------+\n",
            "| I had 3 midwives...|ThriveAppsUK|mens-health-week-...|\n",
            "|           I'm alive|     JoTrust|cervical-cancer-p...|\n",
            "| RN. We're excite...|     SRMC_VA|experience-of-car...|\n",
            "| but specialist N...|  mcxdermott|eating-disorder-a...|\n",
            "|     founder of the\"|    UN_Women|16-days-of-action...|\n",
            "|     founder of the\"|    UN_Women|16-days-of-action...|\n",
            "|     founder of the\"|    UN_Women|16-days-of-action...|\n",
            "|     founder of the\"|    UN_Women|16-days-of-action...|\n",
            "|     founder of the\"|    UN_Women|16-days-of-action...|\n",
            "|     founder of the\"|    UN_Women|16-days-of-action...|\n",
            "|     founder of the\"|    UN_Women|16-days-of-action...|\n",
            "|     founder of the\"|    UN_Women|16-days-of-action...|\n",
            "|     founder of the\"|    UN_Women|16-days-of-action...|\n",
            "|     founder of the\"|    UN_Women|16-days-of-action...|\n",
            "|     founder of the\"|    UN_Women|16-days-of-action...|\n",
            "|     founder of the\"|    UN_Women|16-days-of-action...|\n",
            "|     founder of the\"|    UN_Women|16-days-of-action...|\n",
            "|     founder of the\"|    UN_Women|16-days-of-action...|\n",
            "| ich bin vor eine...|  conni_kiss|brain-injury-week...|\n",
            "| ignorance and ac...|  PlanGlobal|16-days-of-action...|\n",
            "+--------------------+------------+--------------------+\n",
            "only showing top 20 rows\n",
            "\n"
          ],
          "name": "stdout"
        }
      ]
    },
    {
      "cell_type": "code",
      "metadata": {
        "colab": {
          "base_uri": "https://localhost:8080/"
        },
        "id": "NSRjyFvrwgmL",
        "outputId": "31504a69-92bc-4db9-f7ed-a5c7ab8221d9"
      },
      "source": [
        "U_U.select(F.countDistinct(\"user_name\")).show()"
      ],
      "execution_count": null,
      "outputs": [
        {
          "output_type": "stream",
          "text": [
            "+-------------------------+\n",
            "|count(DISTINCT user_name)|\n",
            "+-------------------------+\n",
            "|                     2435|\n",
            "+-------------------------+\n",
            "\n"
          ],
          "name": "stdout"
        }
      ]
    },
    {
      "cell_type": "code",
      "metadata": {
        "colab": {
          "base_uri": "https://localhost:8080/"
        },
        "id": "bI3DNGSv13Bd",
        "outputId": "ae3bc901-e664-4079-8330-5f15c306a9ce"
      },
      "source": [
        "U_U.select(F.countDistinct(\"rt_user\")).show()"
      ],
      "execution_count": null,
      "outputs": [
        {
          "output_type": "stream",
          "text": [
            "+-----------------------+\n",
            "|count(DISTINCT rt_user)|\n",
            "+-----------------------+\n",
            "|                   1192|\n",
            "+-----------------------+\n",
            "\n"
          ],
          "name": "stdout"
        }
      ]
    },
    {
      "cell_type": "code",
      "metadata": {
        "colab": {
          "base_uri": "https://localhost:8080/"
        },
        "id": "t9AC_2L8VoMS",
        "outputId": "18d70d64-1975-4a9a-aa40-a7e4c598711c"
      },
      "source": [
        "U_U.select(F.countDistinct(\"context\")).show()"
      ],
      "execution_count": null,
      "outputs": [
        {
          "output_type": "stream",
          "text": [
            "+-----------------------+\n",
            "|count(DISTINCT context)|\n",
            "+-----------------------+\n",
            "|                     25|\n",
            "+-----------------------+\n",
            "\n"
          ],
          "name": "stdout"
        }
      ]
    },
    {
      "cell_type": "code",
      "metadata": {
        "colab": {
          "base_uri": "https://localhost:8080/"
        },
        "id": "YSjm1yNrPVua",
        "outputId": "ba3614a1-2b17-44b0-ccbb-43b22c49bf3e"
      },
      "source": [
        "array = [' ', \"'\", ',', '\"']\n",
        "U_U.filter(~U_U.user_name.isin(array))"
      ],
      "execution_count": null,
      "outputs": [
        {
          "output_type": "execute_result",
          "data": {
            "text/plain": [
              "DataFrame[user_name: string, rt_user: string, context: string]"
            ]
          },
          "metadata": {
            "tags": []
          },
          "execution_count": 103
        }
      ]
    },
    {
      "cell_type": "code",
      "metadata": {
        "colab": {
          "base_uri": "https://localhost:8080/"
        },
        "id": "MRASKIv12Ju9",
        "outputId": "c9bf8888-dd4f-48b9-fdc2-f20b4a3a9bfd"
      },
      "source": [
        "#U_U = U_U.groupBy('user_name','rt_user').count()\n",
        "U_U = U_U.withColumnRenamed('rt_user','user2')\n",
        "U_U.show(10)"
      ],
      "execution_count": null,
      "outputs": [
        {
          "output_type": "stream",
          "text": [
            "+--------------------+------------+--------------------+\n",
            "|           user_name|       user2|             context|\n",
            "+--------------------+------------+--------------------+\n",
            "| I had 3 midwives...|ThriveAppsUK|mens-health-week-...|\n",
            "|           I'm alive|     JoTrust|cervical-cancer-p...|\n",
            "| RN. We're excite...|     SRMC_VA|experience-of-car...|\n",
            "| but specialist N...|  mcxdermott|eating-disorder-a...|\n",
            "|     founder of the\"|    UN_Women|16-days-of-action...|\n",
            "|     founder of the\"|    UN_Women|16-days-of-action...|\n",
            "|     founder of the\"|    UN_Women|16-days-of-action...|\n",
            "|     founder of the\"|    UN_Women|16-days-of-action...|\n",
            "|     founder of the\"|    UN_Women|16-days-of-action...|\n",
            "|     founder of the\"|    UN_Women|16-days-of-action...|\n",
            "+--------------------+------------+--------------------+\n",
            "only showing top 10 rows\n",
            "\n"
          ],
          "name": "stdout"
        }
      ]
    },
    {
      "cell_type": "code",
      "metadata": {
        "colab": {
          "base_uri": "https://localhost:8080/"
        },
        "id": "YhfZgtqjbOZH",
        "outputId": "0b4413e9-f4b4-44c5-c2b8-a14b317c7158"
      },
      "source": [
        "U_U.printSchema()"
      ],
      "execution_count": null,
      "outputs": [
        {
          "output_type": "stream",
          "text": [
            "root\n",
            " |-- user_name: string (nullable = true)\n",
            " |-- user2: string (nullable = true)\n",
            " |-- context: string (nullable = true)\n",
            "\n"
          ],
          "name": "stdout"
        }
      ]
    },
    {
      "cell_type": "code",
      "metadata": {
        "id": "2vk6JxdRtv4L"
      },
      "source": [
        "#U_U.withColumnRenamed('count','weight1')"
      ],
      "execution_count": null,
      "outputs": []
    },
    {
      "cell_type": "code",
      "metadata": {
        "id": "AAkpJpaT4wQ6"
      },
      "source": [
        "# define the schema, corresponding to a line in the csv data file.\n",
        "schemam = StructType([\n",
        "                    StructField(\"index\", IntegerType(), nullable=True),\n",
        "                    StructField(\"context\", StringType(), nullable=True),\n",
        "                    StructField(\"date\", StringType(), nullable=True),\n",
        "                    StructField(\"id\", LongType(), nullable=True),\n",
        "                    StructField(\"is_media\", FloatType(), nullable=True),\n",
        "                    StructField(\"is_retweet\", FloatType(), nullable=True),\n",
        "                    StructField(\"no_likes\", FloatType(), nullable=True),\n",
        "                    StructField(\"no_retweets\", FloatType(), nullable=True),\n",
        "                    StructField(\"reply\", StringType(), nullable=True),\n",
        "                    StructField(\"text\", StringType(), nullable=True),\n",
        "                    StructField(\"user_name\", StringType(), nullable=True),\n",
        "                    StructField(\"idx\", IntegerType(), nullable=True),\n",
        "                    StructField(\"context1\", StringType(), nullable=True),\n",
        "                    StructField(\"mentions\", StringType(), nullable=True),\n",
        "                    StructField(\"tw_id\", LongType(), nullable=True)\n",
        "                    ])"
      ],
      "execution_count": null,
      "outputs": []
    },
    {
      "cell_type": "code",
      "metadata": {
        "colab": {
          "base_uri": "https://localhost:8080/"
        },
        "id": "2ggTY3Mv9Hy9",
        "outputId": "93ee7bde-ecb9-48b6-d4d6-99223cae785b"
      },
      "source": [
        "#   Read dataset from .csv file\n",
        "T_M = spark.read.format('com.databricks.spark.csv').\\\n",
        "    options(header='true', \\\n",
        "    inferschema='true')\\\n",
        "    .load(\"/content/drive/MyDrive/Kaggle/fadi/T_Maa\",header=True,schema=schemam)\n",
        "\n",
        "T_M.show(5)"
      ],
      "execution_count": null,
      "outputs": [
        {
          "output_type": "stream",
          "text": [
            "+-----+--------------------+-------------------+------------------+--------+----------+--------+-----------+-----+--------------------+------------+---+--------------------+---------+------------------+\n",
            "|index|             context|               date|                id|is_media|is_retweet|no_likes|no_retweets|reply|                text|   user_name|idx|            context1| mentions|             tw_id|\n",
            "+-----+--------------------+-------------------+------------------+--------+----------+--------+-----------+-----+--------------------+------------+---+--------------------+---------+------------------+\n",
            "|  149|cervical-cancer-p...|2018-01-26 17:22:26|956940406121316352|     0.0|       0.0|    17.0|       12.0| null|We've started our...|   rdash_nhs|180|cervical-cancer-p...|  JoTrust|956940406121316352|\n",
            "|   54|cervical-cancer-p...|2018-01-26 17:27:10|956941598444670979|     0.0|       1.0|     0.0|        0.0| null|We've started our...|doncaster_uk|179|cervical-cancer-p...|  JoTrust|956941598444670979|\n",
            "|   54|cervical-cancer-p...|2018-01-26 17:27:10|956941598444670979|     0.0|       1.0|     0.0|        0.0| null|We've started our...|doncaster_uk|178|cervical-cancer-p...|rdash_nhs|956941598444670979|\n",
            "|   54|cervical-cancer-p...|2018-01-26 17:27:10|956941598444670979|     0.0|       1.0|     0.0|        0.0| null|We've started our...|doncaster_uk|179|cervical-cancer-p...|  JoTrust|956941598444670979|\n",
            "|   54|cervical-cancer-p...|2018-01-26 17:27:10|956941598444670979|     0.0|       1.0|     0.0|        0.0| null|We've started our...|doncaster_uk|178|cervical-cancer-p...|rdash_nhs|956941598444670979|\n",
            "+-----+--------------------+-------------------+------------------+--------+----------+--------+-----------+-----+--------------------+------------+---+--------------------+---------+------------------+\n",
            "only showing top 5 rows\n",
            "\n"
          ],
          "name": "stdout"
        }
      ]
    },
    {
      "cell_type": "code",
      "metadata": {
        "colab": {
          "base_uri": "https://localhost:8080/"
        },
        "id": "gXmhB0-I9UYw",
        "outputId": "545abeb5-3d2b-4d5a-9fc9-fbe12c51f010"
      },
      "source": [
        "T_M.printSchema()"
      ],
      "execution_count": null,
      "outputs": [
        {
          "output_type": "stream",
          "text": [
            "root\n",
            " |-- index: integer (nullable = true)\n",
            " |-- context: string (nullable = true)\n",
            " |-- date: string (nullable = true)\n",
            " |-- id: long (nullable = true)\n",
            " |-- is_media: float (nullable = true)\n",
            " |-- is_retweet: float (nullable = true)\n",
            " |-- no_likes: float (nullable = true)\n",
            " |-- no_retweets: float (nullable = true)\n",
            " |-- reply: string (nullable = true)\n",
            " |-- text: string (nullable = true)\n",
            " |-- user_name: string (nullable = true)\n",
            " |-- idx: integer (nullable = true)\n",
            " |-- context1: string (nullable = true)\n",
            " |-- mentions: string (nullable = true)\n",
            " |-- tw_id: long (nullable = true)\n",
            "\n"
          ],
          "name": "stdout"
        }
      ]
    },
    {
      "cell_type": "code",
      "metadata": {
        "colab": {
          "base_uri": "https://localhost:8080/"
        },
        "id": "XJarn2ql9qu8",
        "outputId": "a2658c52-9b72-471c-c969-29ffb6a0d081"
      },
      "source": [
        "#u_u = T_M.na.drop(subset=[\"user_name\",\"mentions\",\"tw_id\"]).select('user_name','mentions').groupBy('user_name','mentions').count()\n",
        "#u_u.show(30)\n",
        "u_u = T_M.na.drop(subset=[\"user_name\",\"mentions\",\"tw_id\"]).orderBy(col('user_name').asc()).select('user_name','mentions','context')\n",
        "u_u = u_u.withColumnRenamed('mentions','user2')\n",
        "u_u.show(10)"
      ],
      "execution_count": null,
      "outputs": [
        {
          "output_type": "stream",
          "text": [
            "+--------------------+------------+--------------------+\n",
            "|           user_name|       user2|             context|\n",
            "+--------------------+------------+--------------------+\n",
            "| I had 3 midwives...|ThriveAppsUK|mens-health-week-...|\n",
            "| I had 3 midwives...|ThriveAppsUK|mens-health-week-...|\n",
            "|           I'm alive|     JoTrust|cervical-cancer-p...|\n",
            "|           I'm alive|     JoTrust|cervical-cancer-p...|\n",
            "| RN. We're excite...|     SRMC_VA|experience-of-car...|\n",
            "| RN. We're excite...|     SRMC_VA|experience-of-car...|\n",
            "| and it opened my...|  emcingvale|ocd-awareness-wee...|\n",
            "| and it opened my...|  emcingvale|ocd-awareness-wee...|\n",
            "| but specialist N...|  mcxdermott|eating-disorder-a...|\n",
            "| but specialist N...|  mcxdermott|eating-disorder-a...|\n",
            "+--------------------+------------+--------------------+\n",
            "only showing top 10 rows\n",
            "\n"
          ],
          "name": "stdout"
        }
      ]
    },
    {
      "cell_type": "code",
      "metadata": {
        "id": "iaehBRn5uL8Z"
      },
      "source": [
        "#u_u.withColumnRenamed('count','weight')"
      ],
      "execution_count": null,
      "outputs": []
    },
    {
      "cell_type": "code",
      "metadata": {
        "colab": {
          "base_uri": "https://localhost:8080/"
        },
        "id": "g0J9V-nfw_uV",
        "outputId": "322bcc8a-173b-41d6-cf50-8afabef523bb"
      },
      "source": [
        "union = U_U.union(u_u)\n",
        "union.show(15)"
      ],
      "execution_count": null,
      "outputs": [
        {
          "output_type": "stream",
          "text": [
            "+--------------------+------------+--------------------+\n",
            "|           user_name|       user2|             context|\n",
            "+--------------------+------------+--------------------+\n",
            "| I had 3 midwives...|ThriveAppsUK|mens-health-week-...|\n",
            "|           I'm alive|     JoTrust|cervical-cancer-p...|\n",
            "| RN. We're excite...|     SRMC_VA|experience-of-car...|\n",
            "| but specialist N...|  mcxdermott|eating-disorder-a...|\n",
            "|     founder of the\"|    UN_Women|16-days-of-action...|\n",
            "|     founder of the\"|    UN_Women|16-days-of-action...|\n",
            "|     founder of the\"|    UN_Women|16-days-of-action...|\n",
            "|     founder of the\"|    UN_Women|16-days-of-action...|\n",
            "|     founder of the\"|    UN_Women|16-days-of-action...|\n",
            "|     founder of the\"|    UN_Women|16-days-of-action...|\n",
            "|     founder of the\"|    UN_Women|16-days-of-action...|\n",
            "|     founder of the\"|    UN_Women|16-days-of-action...|\n",
            "|     founder of the\"|    UN_Women|16-days-of-action...|\n",
            "|     founder of the\"|    UN_Women|16-days-of-action...|\n",
            "|     founder of the\"|    UN_Women|16-days-of-action...|\n",
            "+--------------------+------------+--------------------+\n",
            "only showing top 15 rows\n",
            "\n"
          ],
          "name": "stdout"
        }
      ]
    },
    {
      "cell_type": "code",
      "metadata": {
        "colab": {
          "base_uri": "https://localhost:8080/"
        },
        "id": "ldSe0MtLw_pk",
        "outputId": "d7b5821d-b941-4a76-ec18-a0c3cfb8b6c9"
      },
      "source": [
        "U1_U2 = union.groupBy(union.columns)\\\n",
        "    .count().withColumnRenamed('count','weight').select('user_name','user2','context','weight').orderBy(col('weight').desc())\n",
        "U1_U2.show(20)   "
      ],
      "execution_count": null,
      "outputs": [
        {
          "output_type": "stream",
          "text": [
            "+--------------------+---------------+--------------------+------+\n",
            "|           user_name|          user2|             context|weight|\n",
            "+--------------------+---------------+--------------------+------+\n",
            "|     founder of the\"|       UN_Women|16-days-of-action...|    42|\n",
            "|     founder of the\"|    TaranaBurke|16-days-of-action...|    28|\n",
            "|     jenniej95408140|       JIA_NRAS|wear-purple-for-j...|    21|\n",
            "| there may be a c...| ChelseaClinton|rare-disease-day-...|    18|\n",
            "|        pitcher_lise|           TEWV|time-to-talk-day-...|    16|\n",
            "|            drjude_g|      rdash_nhs|             elf-day|    15|\n",
            "|       mynameisandyj|    EarleyTracy|nutrition-and-hyd...|    15|\n",
            "|       mynameisandyj|WhippsDietitian|nutrition-and-hyd...|    14|\n",
            "|        winslow_mark|    TerriSonger|experience-of-car...|    12|\n",
            "| there may be a c...|   gracescience|rare-disease-day-...|    12|\n",
            "|        justmishelie|   MrsAnneTwist| jeans-for-genes-day|    11|\n",
            "|       luna1805bella|   MrsAnneTwist| jeans-for-genes-day|    11|\n",
            "|            otbcnmtd|     CastleMall|dementia-action-w...|    10|\n",
            "|      diederikdecock|     CapsieNair|wear-purple-for-j...|     9|\n",
            "|       liscordingley|     CapsieNair|wear-purple-for-j...|     9|\n",
            "|      psychferry_msc|   Psych_Review|brain-awareness-w...|     9|\n",
            "|     maxinepatterson|    RonnyAllan1|rare-disease-day-...|     9|\n",
            "|       augustomuench|   BoehringerSA|rare-disease-day-...|     9|\n",
            "|         neutralbrit|      2020Comms|time-to-talk-day-...|     9|\n",
            "|         tvvictoriag|  MNDeventsPlym|mnd-awareness-mon...|     9|\n",
            "+--------------------+---------------+--------------------+------+\n",
            "only showing top 20 rows\n",
            "\n"
          ],
          "name": "stdout"
        }
      ]
    },
    {
      "cell_type": "code",
      "metadata": {
        "id": "GkWWlVTJ6DNd",
        "colab": {
          "base_uri": "https://localhost:8080/"
        },
        "outputId": "30f4b263-b556-4f59-fe55-22448413c3a5"
      },
      "source": [
        "U1_U2.select(F.countDistinct(\"context\")).show()"
      ],
      "execution_count": null,
      "outputs": [
        {
          "output_type": "stream",
          "text": [
            "+-----------------------+\n",
            "|count(DISTINCT context)|\n",
            "+-----------------------+\n",
            "|                     25|\n",
            "+-----------------------+\n",
            "\n"
          ],
          "name": "stdout"
        }
      ]
    },
    {
      "cell_type": "code",
      "metadata": {
        "colab": {
          "base_uri": "https://localhost:8080/"
        },
        "id": "mx5G73QIQgiO",
        "outputId": "0c480ddc-f724-43de-ed01-3422c4b3a86a"
      },
      "source": [
        "U1_U2.select(F.countDistinct(\"user_name\")).show()"
      ],
      "execution_count": null,
      "outputs": [
        {
          "output_type": "stream",
          "text": [
            "+-------------------------+\n",
            "|count(DISTINCT user_name)|\n",
            "+-------------------------+\n",
            "|                     2623|\n",
            "+-------------------------+\n",
            "\n"
          ],
          "name": "stdout"
        }
      ]
    },
    {
      "cell_type": "code",
      "metadata": {
        "colab": {
          "base_uri": "https://localhost:8080/"
        },
        "id": "XrZVHvPuQrfq",
        "outputId": "93ef1b07-83c9-4f0a-9727-1d11cd432879"
      },
      "source": [
        "U1_U2.select(F.countDistinct(\"user2\")).show()"
      ],
      "execution_count": null,
      "outputs": [
        {
          "output_type": "stream",
          "text": [
            "+---------------------+\n",
            "|count(DISTINCT user2)|\n",
            "+---------------------+\n",
            "|                 1904|\n",
            "+---------------------+\n",
            "\n"
          ],
          "name": "stdout"
        }
      ]
    },
    {
      "cell_type": "code",
      "metadata": {
        "id": "iPZ7Cotr7KtR",
        "colab": {
          "base_uri": "https://localhost:8080/"
        },
        "outputId": "6988c22c-04df-4d24-82aa-7216283d5624"
      },
      "source": [
        "U_U.count()"
      ],
      "execution_count": null,
      "outputs": [
        {
          "output_type": "execute_result",
          "data": {
            "text/plain": [
              "2827"
            ]
          },
          "metadata": {
            "tags": []
          },
          "execution_count": 119
        }
      ]
    },
    {
      "cell_type": "code",
      "metadata": {
        "id": "gFq86fAYRhtL",
        "colab": {
          "base_uri": "https://localhost:8080/",
          "height": 265
        },
        "outputId": "589d8f99-eb7d-4658-e5b4-c6cb8e264845"
      },
      "source": [
        "import numpy as np\n",
        "from scipy.integrate import odeint\n",
        "import matplotlib.pyplot as plt\n",
        "import math\n",
        "\n",
        "LR = 5\n",
        "LF = 5\n",
        "\n",
        "# function that returns dz/dt\n",
        "# dz/dt:\n",
        "#  0: dx/dt\n",
        "#  1: dy/dt\n",
        "#  2: dpsi/dt\n",
        "def model(z,t,velo,delta):\n",
        "\tlr = LR\n",
        "\tlf = LF\n",
        "\tbeta = math.atan(lr/(lf+lr)*math.tan(delta))\n",
        "\tx0 = z[0]\n",
        "\ty0 = z[1]\n",
        "\tpsi = z[2]\n",
        "\tdxdt = velo * math.cos(psi + beta)\n",
        "\tdydt = velo * math.sin(psi + beta)\n",
        "\tdpsi_dt = velo / lr * math.sin(beta)\n",
        "\t \n",
        "\treturn [dxdt, dydt, dpsi_dt]\n",
        "\n",
        "\n",
        "# final time\n",
        "tf = 10\n",
        "\n",
        "# number of time points\n",
        "n = tf * 10 + 1\n",
        "\n",
        "# time points\n",
        "t = np.linspace(0,tf,n)\n",
        "\n",
        "# store solution\n",
        "nonlinear = np.zeros([3, n])\n",
        "\n",
        "# initial condition\n",
        "z0 = nonlinear[:,0].flatten()\n",
        "\n",
        "# The vehicle speed at different moments can be a custom sequence, but the speed difference at any continuous moment should not be too large to ensure that the acceleration is within a reasonable range\n",
        "velo_series = np.arange(n)/10 + 1\n",
        "# The steering wheel angle at each moment, you can customize the angle, here is set as [-pi/6, pi/6]\n",
        "delta_series = np.linspace(0, math.pi/3, n) - math.pi/6\n",
        "\n",
        "# solve ODE\n",
        "for i in range(1,n):\n",
        "\t# span for next time step\n",
        "\ttspan = [t[i-1],t[i]]\n",
        "\t# solve for next step\n",
        "\tout = odeint(model,z0,tspan, args=(velo_series[i],delta_series[i]))\n",
        "\t# store solution for plotting\n",
        "\tnonlinear[:,i] = out[1]\n",
        "\t# next initial condition\n",
        "\tz0 = out[1]\n",
        "\n",
        "\n",
        "linear = np.empty_like(nonlinear)\n",
        "linear[:,0:2] = nonlinear[:,0:2] \n",
        "\n",
        "for i in range(2,n):\n",
        "\tT = t[i] - t[i-1]\n",
        "\tA = np.array([[1,0,-math.sin(linear[2][i-1])*velo_series[i-1]*T],[0,1,math.cos(linear[2][i-1])*velo_series[i-1]*T],[0,0,1]])\n",
        "\tbeta = math.atan(LR/(LF+LR)*math.tan(delta_series[i-1]))\n",
        "\tB = np.array([[math.cos(linear[2][i-1])*T,0],[math.sin(linear[2][i-1]*T),0],[math.sin(beta)*T/LR, velo_series[i-1]*T/(LR+LF)/math.cos(delta_series[i-1])**2]])\n",
        "\tdiff = np.matmul(A, (linear[:,i-1]-linear[:,i-2]).reshape(3,1)) + np.matmul(B, np.array([[velo_series[i-1]- velo_series[i-2]],[delta_series[i-1]-delta_series[i-2]]]))\n",
        "\tlinear[:,i] = linear[:,i-1] + diff.reshape(3)\n",
        "\n",
        "# plot results\n",
        "plt.figure(1)\n",
        "plt.subplot(3,1,1)\n",
        "plt.plot(nonlinear[0],nonlinear[1],'g-',linewidth=3,label='Nonlinear')\n",
        "plt.grid()\n",
        "plt.legend(loc='best')\n",
        "plt.subplot(3,1,2)\n",
        "plt.plot(linear[0],linear[1],'r--',linewidth=3,label='Linear')\n",
        "plt.grid()\n",
        "plt.legend(loc='best')\n",
        "plt.subplot(3,1,3)\n",
        "plt.plot(nonlinear[0],nonlinear[1],'g-',linewidth=3,label='Nonlinear')\n",
        "plt.plot(linear[0],linear[1],'r--',linewidth=3,label='Linear')\n",
        "plt.grid()\n",
        "plt.legend(loc='best')\n",
        "plt.show()"
      ],
      "execution_count": null,
      "outputs": [
        {
          "output_type": "display_data",
          "data": {
            "image/png": "[encoded data removed]",
            "text/plain": [
              "<Figure size 432x288 with 3 Axes>"
            ]
          },
          "metadata": {
            "tags": [],
            "needs_background": "light"
          }
        }
      ]
    },
    {
      "cell_type": "code",
      "metadata": {
        "id": "cF1Cntpuel6I"
      },
      "source": [
        "!pip install pysd"
      ],
      "execution_count": null,
      "outputs": []
    },
    {
      "cell_type": "code",
      "metadata": {
        "id": "n86bnAazV6Xb",
        "colab": {
          "base_uri": "https://localhost:8080/",
          "height": 1000
        },
        "outputId": "d9003eb3-76b6-42de-8dcd-f60085982037"
      },
      "source": [
        "import matplotlib.pyplot as plt\n",
        "import numpy as np\n",
        "import pysd\n",
        "import pandas as pd\n",
        "\n",
        "#model = pysd.read_vensim('/PythonProjects/KinematicModel/pysd/tests/test-models/test-models/samples/kinematic/kinematic.mdl')\n",
        "model = pysd.read_vensim('/content/kinematic.mdl')\n",
        "\n",
        "series = pd.Series(index=range(30), data=range(0,30,1))\n",
        "\n",
        "#90 degree turn\n",
        "angle_series = pd.Series(index=range(90), data=range(0,90,1))\n",
        "#chicane turn\n",
        "#angle_series = pd.Series([0, 0, 0, 1, 2, 3, 4, 5, 0, 0, 0, 0, -1, -2, -5, 0, 0, 0])\n",
        "\n",
        "#inputs: velo, rate of change of steering angle\n",
        "#delta defined by steering rate (psi)\n",
        "stocks = model.run(params={'velo':series, 'delta':angle_series},\n",
        "                    return_columns=['x_next', 'y_next', 'psi_next', 'delta'],\n",
        "                    return_timestamps=[0,3,6,9,12,15,18,21,24,27,30])\n",
        "\n",
        "prevX = \"0\"\n",
        "prevY = \"0\"\n",
        "prevPSI = \"0\"\n",
        "\n",
        "dfnumpy = stocks.to_numpy()\n",
        "\n",
        "for val in dfnumpy:\n",
        "    currX = val[0]\n",
        "    currY = val[1]\n",
        "    currPSI = val[2]\n",
        "\n",
        "    print(\"Previous X: \", prevX, \" | Current X: \", currX)\n",
        "    print(\"Previous Y: \", prevY, \" | Current Y: \", currY)\n",
        "    print(\"Previous PSI: \", prevPSI, \" | current PSI: \", currPSI)\n",
        "\n",
        "    val[0] = float(prevX) + float(currX)\n",
        "    val[1] = float(prevY) + float(currY) \n",
        "\n",
        "    if not pd.isnull(prevPSI) and not pd.isnull(currPSI):\n",
        "        val[2] = float(prevPSI) + float(currPSI)\n",
        "\n",
        "    print(\"X: \", val[0], \" | Y: \", val[1], \" | PSI: \", val[2]) \n",
        "\n",
        "    prevX = currX\n",
        "    prevY = currY\n",
        "    prevPSI = currPSI\n",
        "    \n",
        "stocks.plot('x_next', 'y_next', label = 'Coordinates')\n",
        "plt.xlabel('X Coordinates')\n",
        "plt.ylabel('Y Coordinates')\n",
        "plt.show()"
      ],
      "execution_count": null,
      "outputs": [
        {
          "output_type": "stream",
          "text": [
            "/content/kinematic.py:170: RuntimeWarning: invalid value encountered in double_scalars\n",
            "  return (velo() / (lf() * np.sin(bta())))\n"
          ],
          "name": "stderr"
        },
        {
          "output_type": "stream",
          "text": [
            "Previous X:  0  | Current X:  0.0\n",
            "Previous Y:  0  | Current Y:  0.0\n",
            "Previous PSI:  0  | current PSI:  nan\n",
            "X:  0.0  | Y:  0.0  | PSI:  nan\n",
            "Previous X:  0.0  | Current X:  2.991290831112369\n",
            "Previous Y:  0.0  | Current Y:  -0.22842758962759901\n",
            "Previous PSI:  nan  | current PSI:  -26.26652940558398\n",
            "X:  2.991290831112369  | Y:  -0.22842758962759901  | PSI:  -26.26652940558398\n",
            "Previous X:  2.991290831112369  | Current X:  5.928391790819314\n",
            "Previous Y:  -0.22842758962759901  | Current Y:  -0.9242135979015753\n",
            "Previous PSI:  -26.26652940558398  | current PSI:  -25.968023035467063\n",
            "X:  8.919682621931683  | Y:  -1.1526411875291744  | PSI:  -52.234552441051044\n",
            "Previous X:  5.928391790819314  | Current X:  8.746875775238502\n",
            "Previous Y:  -0.9242135979015753  | Current Y:  -2.119472616606747\n",
            "Previous PSI:  -25.968023035467063  | current PSI:  -25.478036176024496\n",
            "X:  14.675267566057816  | Y:  -3.0436862145083223  | PSI:  -51.44605921149156\n",
            "Previous X:  8.746875775238502  | Current X:  11.359058071592628\n",
            "Previous Y:  -2.119472616606747  | Current Y:  -3.8693409937851655\n",
            "Previous PSI:  -25.478036176024496  | current PSI:  -24.81042641478037\n",
            "X:  20.105933846831128  | Y:  -5.9888136103919125  | PSI:  -50.28846259080487\n",
            "Previous X:  11.359058071592628  | Current X:  13.634760728916872\n",
            "Previous Y:  -3.8693409937851655  | Current Y:  -6.252463503706857\n",
            "Previous PSI:  -24.81042641478037  | current PSI:  -23.990543872998295\n",
            "X:  24.9938188005095  | Y:  -10.121804497492022  | PSI:  -48.80097028777867\n",
            "Previous X:  13.634760728916872  | Current X:  15.371615965060823\n",
            "Previous Y:  -6.252463503706857  | Current Y:  -9.36554443813531\n",
            "Previous PSI:  -23.990543872998295  | current PSI:  -23.063261450180665\n",
            "X:  29.006376693977693  | Y:  -15.618007941842166  | PSI:  -47.05380532317896\n",
            "Previous X:  15.371615965060823  | Current X:  16.252139739456236\n",
            "Previous Y:  -9.36554443813531  | Current Y:  -13.299171173016287\n",
            "Previous PSI:  -23.063261450180665  | current PSI:  -22.106640795519592\n",
            "X:  31.62375570451706  | Y:  -22.664715611151596  | PSI:  -45.16990224570026\n",
            "Previous X:  16.252139739456236  | Current X:  15.797552733845013\n",
            "Previous Y:  -13.299171173016287  | Current Y:  -18.06757669476972\n",
            "Previous PSI:  -22.106640795519592  | current PSI:  -21.253541993330074\n",
            "X:  32.04969247330125  | Y:  -31.366747867786007  | PSI:  -43.36018278884967\n",
            "Previous X:  15.797552733845013  | Current X:  13.374026782995557\n",
            "Previous Y:  -18.06757669476972  | Current Y:  -23.454965521350005\n",
            "Previous PSI:  -21.253541993330074  | current PSI:  -20.720559130970194\n",
            "X:  29.17157951684057  | Y:  -41.522542216119724  | PSI:  -41.97410112430027\n",
            "Previous X:  13.374026782995557  | Current X:  8.11377091716529\n",
            "Previous Y:  -23.454965521350005  | Current Y:  -27.841816059728625\n",
            "Previous PSI:  -20.720559130970194  | current PSI:  -20.13757527396478\n",
            "X:  21.487797700160847  | Y:  -51.29678158107863  | PSI:  -40.85813440493497\n"
          ],
          "name": "stdout"
        },
        {
          "output_type": "display_data",
          "data": {
            "image/png": "[encoded data removed]",
            "text/plain": [
              "<Figure size 432x288 with 1 Axes>"
            ]
          },
          "metadata": {
            "tags": [],
            "needs_background": "light"
          }
        }
      ]
    },
    {
      "cell_type": "code",
      "metadata": {
        "id": "aDPWKarajADq"
      },
      "source": [
        ""
      ],
      "execution_count": null,
      "outputs": []
    }
  ]
}